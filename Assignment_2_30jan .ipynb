{
 "cells": [
  {
   "cell_type": "code",
   "execution_count": 1,
   "id": "bd7e8b26-b639-447d-a4d8-00d53029bc03",
   "metadata": {},
   "outputs": [
    {
     "name": "stdin",
     "output_type": "stream",
     "text": [
      "Enter percentage:  4\n"
     ]
    },
    {
     "name": "stdout",
     "output_type": "stream",
     "text": [
      "D\n"
     ]
    }
   ],
   "source": [
    "# Solution 1\n",
    "marks=int(input(\"Enter percentage: \"))\n",
    "if marks>90:\n",
    "    print(\"A\")\n",
    "elif marks >80 and marks <= 90:\n",
    "    print(\"B\")\n",
    "elif marks >= 60 and marks <=80:\n",
    "    print(\"C\")\n",
    "else:\n",
    "    print(\"D\")"
   ]
  },
  {
   "cell_type": "code",
   "execution_count": 2,
   "id": "2cf30888-b0da-49e4-965a-0e8dd0b6d294",
   "metadata": {},
   "outputs": [
    {
     "name": "stdin",
     "output_type": "stream",
     "text": [
      "Enter the cost price of bike:  4\n"
     ]
    },
    {
     "name": "stdout",
     "output_type": "stream",
     "text": [
      "0.2\n"
     ]
    }
   ],
   "source": [
    "# Solution 2\n",
    "cost=int(input(\"Enter the cost price of bike: \"))\n",
    "if cost>100000:\n",
    "    tax=0.15*cost\n",
    "    print (tax)\n",
    "elif cost >50000 and cost <=100000:\n",
    "    tax=0.1*cost\n",
    "    print (tax)\n",
    "else:\n",
    "    tax=.05*cost\n",
    "    print (tax)"
   ]
  },
  {
   "cell_type": "code",
   "execution_count": 3,
   "id": "884f2ef6-613a-41fa-a04c-9d0f50d3f7b7",
   "metadata": {},
   "outputs": [
    {
     "name": "stdin",
     "output_type": "stream",
     "text": [
      "Enter city:  delhi\n"
     ]
    },
    {
     "name": "stdout",
     "output_type": "stream",
     "text": [
      "Red Fort\n"
     ]
    }
   ],
   "source": [
    "# Solution 3\n",
    "city=input(\"Enter city: \")\n",
    "City = city.capitalize()\n",
    "if City == 'Delhi':\n",
    "    print(\"Red Fort\")\n",
    "elif City == 'Agra':\n",
    "    print(\"Taj Mahal\")\n",
    "elif City == 'Jaipur':\n",
    "    print(\"Jal Mahal\")"
   ]
  },
  {
   "cell_type": "code",
   "execution_count": 4,
   "id": "cb2b9b4a-84bf-45e1-b4b3-226ebae7dbf4",
   "metadata": {},
   "outputs": [
    {
     "name": "stdin",
     "output_type": "stream",
     "text": [
      "Enter number:  888\n"
     ]
    },
    {
     "name": "stdout",
     "output_type": "stream",
     "text": [
      "5\n"
     ]
    }
   ],
   "source": [
    "# Solution 4\n",
    "num=int(input(\"Enter number: \"))\n",
    "count =0\n",
    "while num >=10:\n",
    "    num=num/3\n",
    "    count=count+1\n",
    "print(count)\n",
    "    "
   ]
  },
  {
   "cell_type": "code",
   "execution_count": 21,
   "id": "3a0e1c98-7ff6-476b-9191-a57cc6670b99",
   "metadata": {},
   "outputs": [
    {
     "name": "stdin",
     "output_type": "stream",
     "text": [
      " Give the last number:  9\n"
     ]
    },
    {
     "name": "stdout",
     "output_type": "stream",
     "text": [
      "9, 8, 7, 6, 5, 4, 3, 2, 1, "
     ]
    }
   ],
   "source": [
    "# Solution 5\n",
    "#A \"While\" Loop is used to repeat a specific block of code an unknown number of times, until a condition is met. \n",
    "#For example, if we want to ask a user for a number n natural numbers, we can use a while loop as follows\n",
    "n=int(input(\" Give the last number: \"))\n",
    "while n>0:\n",
    "    print(n, end=\", \")\n",
    "    n=n-1\n",
    "\n",
    "# while loop is used when:\n",
    "# 1. number of iterations are unkonown.\n",
    "# 2. infinite loop my be desired.\n"
   ]
  },
  {
   "cell_type": "code",
   "execution_count": 16,
   "id": "413460e4-55aa-42e9-814d-1e567c3ac9bb",
   "metadata": {},
   "outputs": [
    {
     "name": "stdin",
     "output_type": "stream",
     "text": [
      "Enter the number of rows for the patterns:  5\n"
     ]
    },
    {
     "name": "stdout",
     "output_type": "stream",
     "text": [
      "Pattern 1: \n",
      "* * * * * \n",
      "\n",
      "* * * * * \n",
      "\n",
      "* * * * * \n",
      "\n",
      "* * * * * \n",
      "\n",
      "* * * * * \n",
      "\n",
      "Pattern 2: \n",
      "* \n",
      "\n",
      "* * \n",
      "\n",
      "* * * \n",
      "\n",
      "* * * * \n",
      "\n",
      "* * * * * \n",
      "\n",
      "Pattern 3: \n",
      "        * * \n",
      "\n",
      "      * * * \n",
      "\n",
      "    * * * * \n",
      "\n",
      "  * * * * * \n",
      "\n",
      "* * * * * * \n",
      "\n"
     ]
    }
   ],
   "source": [
    "# Solution 6\n",
    "n=int(input(\"Enter the number of rows for the patterns: \"))\n",
    "row =1\n",
    "print(\"Pattern 1: \")\n",
    "while row<=n:\n",
    "    col=1\n",
    "    while col <= n:\n",
    "        print(\"* \", end=\"\")\n",
    "        col=col+1\n",
    "    print(\"\\n\")\n",
    "    row=row+1\n",
    "\n",
    "print(\"Pattern 2: \")\n",
    "row2=1\n",
    "while row2<=n:\n",
    "    col2=1\n",
    "    while col2<= row2:\n",
    "        print(\"* \",end=\"\")\n",
    "        col2=col2+1\n",
    "    print(\"\\n\")\n",
    "    row2=row2+1\n",
    "    \n",
    "print(\"Pattern 3: \")\n",
    "row3=1\n",
    "k=2*n-2\n",
    "while row3 <=n:\n",
    "    space=0\n",
    "    while space<k:\n",
    "        print(end=\" \")\n",
    "        space=space+1\n",
    "    k=k-2\n",
    "    col3=0\n",
    "    while col3 <= row3:\n",
    "        print(\"* \", end=\"\")\n",
    "        col3=col3+1\n",
    "    print(\"\\n\")\n",
    "    row3=row3+1"
   ]
  },
  {
   "cell_type": "code",
   "execution_count": 17,
   "id": "c5b6d8d8-02e5-4ed0-b188-a37521586972",
   "metadata": {},
   "outputs": [
    {
     "name": "stdout",
     "output_type": "stream",
     "text": [
      "10\n",
      "9\n",
      "8\n",
      "7\n",
      "6\n",
      "5\n",
      "4\n",
      "3\n",
      "2\n",
      "1\n"
     ]
    }
   ],
   "source": [
    "# Solution 7:\n",
    "i=10\n",
    "while i>0:\n",
    "    print(i)\n",
    "    i=i-1"
   ]
  },
  {
   "cell_type": "code",
   "execution_count": null,
   "id": "c117f58e-153a-43d7-a9d2-3066042ba39a",
   "metadata": {},
   "outputs": [],
   "source": [
    "# Solution 8:\n",
    "i=10\n",
    "while i>0:\n",
    "    print(i)\n",
    "    i=i-1"
   ]
  }
 ],
 "metadata": {
  "kernelspec": {
   "display_name": "Python 3 (ipykernel)",
   "language": "python",
   "name": "python3"
  },
  "language_info": {
   "codemirror_mode": {
    "name": "ipython",
    "version": 3
   },
   "file_extension": ".py",
   "mimetype": "text/x-python",
   "name": "python",
   "nbconvert_exporter": "python",
   "pygments_lexer": "ipython3",
   "version": "3.10.8"
  }
 },
 "nbformat": 4,
 "nbformat_minor": 5
}
