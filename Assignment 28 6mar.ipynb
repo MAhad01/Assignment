{
 "cells": [
  {
   "cell_type": "code",
   "execution_count": 1,
   "id": "f8b1b8b3-9081-4512-a4c7-6ad6788459b3",
   "metadata": {},
   "outputs": [],
   "source": [
    "# Ans 1\n",
    "\n",
    "# Statistics is simply defined as the study and manipulation of data. \n",
    "# As we have already discussed in the introduction that statistics deals with the analysis and computation of numerical data. \n",
    "# Let us see more definitions of statistics given by different authors here. According to Merriam-Webster dictionary, \n",
    "# statistics is defined as “classified facts representing the conditions of a people in a state – especially the facts that can\n",
    "# be stated in numbers or any other tabular or classified arrangement”. According to statistician Sir Arthur Lyon Bowley, \n",
    "# statistics is defined as “Numerical statements of facts in any department of inquiry placed in relation to each other” . \n",
    "# Statistics is a branch of applied mathematics that involves collecting, analyzing, interpreting, presenting, and organizing data .\n",
    "# It is used to derive conclusions from data that is collected and analyzed. \n",
    "#The basics of statistics include the measure of central tendency and the measure of dispersion. \n",
    "#The central tendencies are mean, median and mode and dispersions comprise variance and standard deviation.\n"
   ]
  },
  {
   "cell_type": "code",
   "execution_count": 2,
   "id": "bd52ea8f-d589-4aea-b309-0b56b571f08d",
   "metadata": {},
   "outputs": [],
   "source": [
    "# Ans 2\n",
    "\n",
    "# There are two types of statistics: descriptive statistics and inferential statistics. \n",
    "# Descriptive statistics is used to describe the basic features of the data in a study. \n",
    "# It provides simple summaries about the sample and the measures. \n",
    "# For example, if we want to know the average height of students in a class, we can use descriptive statistics to calculate the \n",
    "# mean height of all students in that class. Inferential statistics is used to make predictions or generalizations about a \n",
    "# population based on a sample of data. It involves estimating parameters and testing hypotheses. \n",
    "# For example, if we want to know whether the average height of students in our class is different from the average height of \n",
    "# students in another class, we can use inferential statistics to test this hypothesis. "
   ]
  },
  {
   "cell_type": "code",
   "execution_count": 3,
   "id": "1d73b5ba-d81d-4f62-af69-d187bad12e9e",
   "metadata": {},
   "outputs": [],
   "source": [
    "# Ans 3\n",
    "\n",
    "# There are four types of data: nominal, ordinal, interval, and ratio. Nominal data is used to label variables without any \n",
    "# quantitative value. For example, gender, race, religion, hair color, etc. Ordinal data is used to label variables with some order. \n",
    "# For example, education level (high school, college, graduate), income level (low, medium, high), etc. \n",
    "# Interval data is used to measure variables with a fixed unit of measurement. For example, temperature in Celsius or Fahrenheit.\n",
    "# Ratio data is used to measure variables with a fixed unit of measurement and a true zero point. \n",
    "# For example, height, weight, age, etc."
   ]
  },
  {
   "cell_type": "code",
   "execution_count": 4,
   "id": "e87b5866-ec5e-4e4f-999a-8da3f77c4f49",
   "metadata": {},
   "outputs": [],
   "source": [
    "# Ans 4\n",
    "\n",
    "# (i) Grading in exam: A+, A, B+, B, C+, C, D, E are qualitative data types. \n",
    "# (ii) Colour of mangoes: yellow, green, orange, red are qualitative data types. \n",
    "# (iii) Height data of a class: [178.9, 179, 179.5, 176, 177.2, 178.3, 175.8,…] is quantitative data type. \n",
    "# (iv) Number of mangoes exported by a farm: [500, 600, 478, 672, …] is quantitative data type."
   ]
  },
  {
   "cell_type": "code",
   "execution_count": 5,
   "id": "6c21f782-7812-44f1-bc16-c098c427825b",
   "metadata": {},
   "outputs": [],
   "source": [
    "# Ans 5\n",
    "\n",
    "# Levels of measurement refer to the way data is measured and categorized. There are four levels of measurement: nominal, ordinal, interval, and ratio. Nominal data is used to label variables without any quantitative value. For example, gender, race, religion, hair color, etc. Ordinal data is used to label variables with some order. For example, education level (high school, college, graduate), income level (low, medium, high), etc. Interval data is used to measure variables with a fixed unit of measurement. For example, temperature in Celsius or Fahrenheit. Ratio data is used to measure variables with a fixed unit of measurement and a true zero point. For example, height, weight, age, etc. The difference between interval and ratio data is that ratio data has a true zero point while interval data does not . Here are some examples of variables for each level:\n",
    "\n",
    "# Nominal: Gender (male/female), religion (Christianity/Islam/Hinduism), hair color (blonde/brown/black).\n",
    "# Ordinal: Education level (high school/college/graduate), income level (low/medium/high), customer satisfaction rating (poor/fair/good/excellent).\n",
    "# Interval: Temperature in Celsius or Fahrenheit.\n",
    "# Ratio: Height, weight, age ."
   ]
  },
  {
   "cell_type": "code",
   "execution_count": 6,
   "id": "096cd2ff-c253-4042-8f47-2120ac8eec8e",
   "metadata": {},
   "outputs": [],
   "source": [
    "# Ans 6\n",
    "\n",
    "# Understanding the level of measurement is important when analyzing data because it determines the type of \n",
    "# statistical analysis that can be performed on the data. Different levels of measurement require different statistical techniques. \n",
    "# For example, nominal data can only be analyzed using non-parametric tests, while interval and ratio data can be analyzed using \n",
    "# parametric tests. If we use the wrong statistical technique, we may end up with incorrect conclusions. \n",
    "# For instance, if we use a t-test to compare the means of two nominal variables, we will get an incorrect result because \n",
    "# t-tests are only appropriate for interval or ratio data ."
   ]
  },
  {
   "cell_type": "code",
   "execution_count": 7,
   "id": "65c4d30e-aa97-4041-acf0-c43d35df2bfb",
   "metadata": {},
   "outputs": [],
   "source": [
    "# Ans 7\n",
    "\n",
    "# Nominal data is used to label variables without any quantitative value. For example, gender, race, religion, hair color, etc. \n",
    "# Nominal data can only be analyzed using non-parametric tests. Ordinal data is used to label variables with some order. \n",
    "# For example, education level (high school, college, graduate), income level (low, medium, high), etc. \n",
    "# Ordinal data can be analyzed using non-parametric tests and some parametric tests. \n",
    "# The main difference between nominal and ordinal data is that ordinal data has a natural order while nominal data does not.\n"
   ]
  },
  {
   "cell_type": "code",
   "execution_count": 8,
   "id": "0254401b-2b8c-4ec9-89c2-05a06bb510d2",
   "metadata": {},
   "outputs": [],
   "source": [
    "# Ans 8\n",
    "\n",
    "# There are several types of plots that can be used to display data in terms of range. \n",
    "# One such plot is a box plot, also known as a box-and-whisker plot. \n",
    "# A box plot is a graphical representation of the distribution of data based on five summary statistics: minimum, first quartile,\n",
    "# median, third quartile, and maximum. \n",
    "# The box represents the interquartile range (IQR), which is the distance between the first and third quartiles. \n",
    "# The whiskers extend from the box to the minimum and maximum values, excluding outliers. \n",
    "# ox plots are useful for comparing distributions between different groups or for comparing the same distribution at different points\n",
    "# in time . Another type of plot that can be used to display data in terms of range is a scatter plot. \n",
    "# Scatter plots are used to show the relationship between two variables. \n",
    "# They are useful for identifying patterns and trends in data."
   ]
  },
  {
   "cell_type": "code",
   "execution_count": 9,
   "id": "a904ba77-4b36-43cc-88bd-3dbe09d97a2d",
   "metadata": {},
   "outputs": [],
   "source": [
    "# Ans 9\n",
    "\n",
    "# Descriptive statistics is used to describe the basic features of the data in a study. \n",
    "# It provides simple summaries about the sample and the measures. For example, if we want to know the average height of students \n",
    "# in a class, we can use descriptive statistics to calculate the mean height of all students in that class. \n",
    "# Inferential statistics is used to make predictions or generalizations about a population based on a sample of data. \n",
    "# It involves estimating parameters and testing hypotheses. For example, if we want to know whether the average height of students\n",
    "# in our class is different from the average height of students in another class, we can use inferential statistics to test this \n",
    "# hypothesis. We can use statistical samples such as cluster random, convenience, simple random, stratified random, systematic \n",
    "# random, or voluntary response. Here is an example of each type of statistics and how they are used:\n",
    "\n",
    "# Descriptive statistics: Suppose we have a dataset containing the heights of 100 students in a class.\n",
    "# We can use descriptive statistics to calculate the mean height, median height, mode height, range, variance, and standard \n",
    "# deviation of the dataset. This will give us an idea about the distribution of heights in the class.\n",
    "\n",
    "# Inferential statistics: Suppose we want to know whether there is a significant difference between the average height \n",
    "# of male and female students in our class. We can use inferential statistics to test this hypothesis by collecting a sample\n",
    "# of male and female students from our class and calculating their average heights. We can then use statistical tests such as \n",
    "# t-tests or ANOVA to determine whether there is a significant difference between the two groups ."
   ]
  },
  {
   "cell_type": "code",
   "execution_count": null,
   "id": "d66c2fce-8e9a-4a81-affb-b64ebc405ddb",
   "metadata": {},
   "outputs": [],
   "source": [
    "# Ans 10\n",
    "\n",
    "# Measures of central tendency and variability are used to describe the distribution of data in a dataset. \n",
    "# The most common measures of central tendency are mean, median, and mode. \n",
    "# Mean is the average of the observations. Median is the central value when observations are arranged in order. \n",
    "# The mode determines the most frequent observations in a data set. \n",
    "# The mean is the most commonly used measure of central tendency because it takes into account all the observations in the dataset. \n",
    "# However, it can be affected by outliers. \n",
    "# The median is a more robust measure of central tendency because it is not affected by outliers. \n",
    "# The mode is useful for describing nominal data because it identifies the most frequent observation in a dataset. \n",
    "# The most common measures of variability are variance and standard deviation.\n",
    "# Variation is the measure of spread out of the collection of data. \n",
    "# Standard deviation is the measure of the dispersion of data from the mean.\n",
    "# The square of standard deviation is equal to the variance. \n",
    "# Variance and standard deviation are useful for describing how much variation there is in a dataset. \n",
    "# A high variance or standard deviation indicates that there is a lot of variation in the dataset, while a \n",
    "# low variance or standard deviation indicates that there islittle variation in the dataset ."
   ]
  }
 ],
 "metadata": {
  "kernelspec": {
   "display_name": "Python 3 (ipykernel)",
   "language": "python",
   "name": "python3"
  },
  "language_info": {
   "codemirror_mode": {
    "name": "ipython",
    "version": 3
   },
   "file_extension": ".py",
   "mimetype": "text/x-python",
   "name": "python",
   "nbconvert_exporter": "python",
   "pygments_lexer": "ipython3",
   "version": "3.10.8"
  }
 },
 "nbformat": 4,
 "nbformat_minor": 5
}
