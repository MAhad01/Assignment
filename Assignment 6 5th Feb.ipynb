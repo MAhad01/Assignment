{
 "cells": [
  {
   "cell_type": "code",
   "execution_count": 1,
   "id": "7592e21a-d238-4185-9fc4-a9a86b495dbf",
   "metadata": {},
   "outputs": [],
   "source": [
    "#Ans 1\n",
    "#Class is a blueprint of a structures to define a data type and its properties.\n",
    "#Object is a subset of a class. Multiple objects (of different name) can be created form a single class.  \n",
    "# EG: SUV is a class and Fortuner, Scorpio, Thar are objects of that class."
   ]
  },
  {
   "cell_type": "code",
   "execution_count": 2,
   "id": "0d7d1c2c-2927-4a09-89d3-ec716501b14b",
   "metadata": {},
   "outputs": [],
   "source": [
    "# Ans 2\n",
    "# The 4 pillars of OOPs are: \n",
    "# 1. Abstraction.\n",
    "# 2. Encapsulation.\n",
    "# 3. Inheritance.\n",
    "# 4. Polymorphism."
   ]
  },
  {
   "cell_type": "code",
   "execution_count": 3,
   "id": "830c34a2-b892-4de5-8a78-59cc4881475c",
   "metadata": {},
   "outputs": [],
   "source": [
    "#Ans 3\n",
    "# __init__ function() is used to pass data to a function or constructor in a class.\n",
    "# Eg: \n",
    "class pwskills1:\n",
    "    def __init__(self, phone_number, email_id, student_id):\n",
    "        self.phone_number=phone_number\n",
    "        self.email_id=email_id\n",
    "        self.student_id=student_id\n",
    "        \n",
    "    def return_student_details(self):\n",
    "        return self.student_id, self.phone_number, self.email_id"
   ]
  },
  {
   "cell_type": "code",
   "execution_count": 4,
   "id": "55254cf1-9493-4fd3-ba5e-cde772986faa",
   "metadata": {},
   "outputs": [],
   "source": [
    "# Ans 4\n",
    "# class only understands the data associated wiht 'self.abc' . But self is not a reserved keyword, we can use any word but it has to be constant."
   ]
  },
  {
   "cell_type": "code",
   "execution_count": null,
   "id": "4c99fe12-fb24-46dd-b00d-f707a193a93c",
   "metadata": {},
   "outputs": [],
   "source": [
    "# Ans 5\n",
    "# In object-oriented programming, inheritance is the mechanism of basing an object or class upon another object or class, retaining similar implementation1. Inheritance is one of the core concepts of object-oriented programming languages2. There are four types of inheritance in Python:\n",
    "\n",
    "#Single inheritance: A derived class is created from a single base class.\n",
    "class Animal:\n",
    "    def __init__(self):\n",
    "        print(\"Animal constructor\")\n",
    "    def whoAmI(self):\n",
    "        print(\"Animal\")\n",
    "    def eat(self):\n",
    "        print(\"Eating\")\n",
    "\n",
    "class Dog(Animal):\n",
    "    def __init__(self):\n",
    "        Animal.__init__(self)\n",
    "        print(\"Dog constructor\")\n",
    "    def whoAmI(self):\n",
    "        print(\"Dog\")\n",
    "    def bark(self):\n",
    "        print(\"Barking\")\n",
    "\n",
    "d = Dog()\n",
    "d.whoAmI()\n",
    "d.eat()\n",
    "d.bark()\n",
    "#Multiple inheritance: A derived class is created from multiple base classes.\n",
    "#Multi-level inheritance: A derived class is created from a base class that is also derived from another base class.\n",
    "#Hierarchical Inheritance: Multiple derived classes are created from a single base class.\n"
   ]
  }
 ],
 "metadata": {
  "kernelspec": {
   "display_name": "Python 3 (ipykernel)",
   "language": "python",
   "name": "python3"
  },
  "language_info": {
   "codemirror_mode": {
    "name": "ipython",
    "version": 3
   },
   "file_extension": ".py",
   "mimetype": "text/x-python",
   "name": "python",
   "nbconvert_exporter": "python",
   "pygments_lexer": "ipython3",
   "version": "3.10.8"
  }
 },
 "nbformat": 4,
 "nbformat_minor": 5
}
