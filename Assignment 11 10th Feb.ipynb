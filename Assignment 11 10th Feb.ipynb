{
 "cells": [
  {
   "cell_type": "code",
   "execution_count": 1,
   "id": "1c76b87b-70a5-439f-831d-2a15e912c8cd",
   "metadata": {},
   "outputs": [],
   "source": [
    "# Ans 1\n",
    "# In Python, we use the built-in function open() to open files\n",
    "# the different modes of opening a file are:\n",
    "\n",
    "#Read mode ®: This is the default mode. It opens a file for reading. If the file does not exist, an error is raised.\n",
    "#Write mode (w): This mode opens a file for writing. If the file does not exist, it creates one. If it exists, it truncates it.\n",
    "#Append mode (a): This mode opens a file for appending. If the file does not exist, it creates one. If it exists, it appends data to it.\n",
    "#Binary mode (b): This mode is used to open a file in binary format.\n",
    "#Read and write mode (r+): This mode opens a file for both reading and writing.\n",
    "#Write and read mode (w+): This mode opens a file for both reading and writing. If the file does not exist, it creates one. If it exists, it truncates it.\n",
    "#Append and read mode (a+): This mode opens a file for both reading and appending. If the file does not exist, it creates one."
   ]
  },
  {
   "cell_type": "code",
   "execution_count": 2,
   "id": "af417616-e778-4cc3-9de9-cfb702aa1fbd",
   "metadata": {},
   "outputs": [],
   "source": [
    "# Ans 2\n",
    "# The close() method flushes any unwritten information and closes the file object, after which no more writing can be done.\n",
    "# it important to close a file because files are limited resources managed by the operating system. \n",
    "# If you don’t close a file after using it, you may run out of file handles or experience corrupted data. "
   ]
  },
  {
   "cell_type": "code",
   "execution_count": 3,
   "id": "9b3734b7-86c5-4d22-bc5b-f6bdde406236",
   "metadata": {},
   "outputs": [
    {
     "name": "stdout",
     "output_type": "stream",
     "text": [
      "File content: I want to become a Data Scientist.\n"
     ]
    }
   ],
   "source": [
    "# Ans 3\n",
    "# Create the file\n",
    "file_path = \"data.txt\"\n",
    "file = open(file_path, \"w\")\n",
    "\n",
    "# Write the content to the file\n",
    "content = \"I want to become a Data Scientist.\"\n",
    "file.write(content)\n",
    "\n",
    "# Close the file\n",
    "file.close()\n",
    "\n",
    "# Open the file and read its contents\n",
    "file = open(file_path, \"r\")\n",
    "file_content = file.read()\n",
    "\n",
    "# Close the file\n",
    "file.close()\n",
    "\n",
    "# Display the content of the file\n",
    "print(\"File content:\", file_content)"
   ]
  },
  {
   "cell_type": "code",
   "execution_count": 4,
   "id": "10b49700-81c0-4df1-abf7-5a5364a77478",
   "metadata": {},
   "outputs": [
    {
     "name": "stdout",
     "output_type": "stream",
     "text": [
      "I want to become a Data Scientist.\n"
     ]
    }
   ],
   "source": [
    "# Ans 4\n",
    "# read(): The read() method reads the entire content of a file as a single string. \n",
    "# It reads from the current position of the file pointer until the end of the file.\n",
    "# Open the file in read mode\n",
    "file = open(\"data.txt\", \"r\")\n",
    "\n",
    "# Read the entire content of the file\n",
    "file_content = file.read()\n",
    "\n",
    "# Close the file\n",
    "file.close()\n",
    "\n",
    "# Display the content\n",
    "print(file_content)"
   ]
  },
  {
   "cell_type": "code",
   "execution_count": 5,
   "id": "43e9416e-8d02-4571-9bce-e2e1e5c0b077",
   "metadata": {},
   "outputs": [
    {
     "name": "stdout",
     "output_type": "stream",
     "text": [
      "Line 1: I want to become a Data Scientist.\n",
      "Line 2: \n"
     ]
    }
   ],
   "source": [
    "# he readline() method reads a single line from the file, starting from the current position of the file pointer. \n",
    "#It reads until it encounters a newline character (\\n) or reaches the end of the file.\n",
    "# Open the file in read mode\n",
    "file = open(\"data.txt\", \"r\")\n",
    "\n",
    "# Read the first line of the file\n",
    "line1 = file.readline()\n",
    "\n",
    "# Read the second line of the file\n",
    "line2 = file.readline()\n",
    "\n",
    "# Close the file\n",
    "file.close()\n",
    "\n",
    "# Display the lines\n",
    "print(\"Line 1:\", line1)\n",
    "print(\"Line 2:\", line2)\n"
   ]
  },
  {
   "cell_type": "code",
   "execution_count": 6,
   "id": "5a8be59d-787b-44db-8e9b-a5359056b332",
   "metadata": {},
   "outputs": [
    {
     "name": "stdout",
     "output_type": "stream",
     "text": [
      "I want to become a Data Scientist.\n"
     ]
    }
   ],
   "source": [
    "# The readlines() method reads all the lines of a file and returns them as a list of strings. \n",
    "# Each line is treated as a separate element in the list.\n",
    "# Open the file in read mode\n",
    "file = open(\"data.txt\", \"r\")\n",
    "\n",
    "# Read all the lines of the file\n",
    "lines = file.readlines()\n",
    "\n",
    "# Close the file\n",
    "file.close()\n",
    "\n",
    "# Display the lines\n",
    "for line in lines:\n",
    "    print(line)\n"
   ]
  },
  {
   "cell_type": "code",
   "execution_count": 8,
   "id": "1a2172c8-294c-420d-b427-7de6758250bb",
   "metadata": {},
   "outputs": [
    {
     "name": "stdout",
     "output_type": "stream",
     "text": [
      "I want to become a Data Scientist.\n"
     ]
    }
   ],
   "source": [
    "# Ans 5\n",
    "# The with statement is used with the open() function in Python to ensure proper handling and automatic cleanup of resources, such as files. \n",
    "#  advantage of using the with statement with open() :\n",
    "# 1 - Automatic resource management\n",
    "# 2 - Exception handling\n",
    "# 3 - Readability and clarity\n",
    "\n",
    "# Open the file using with statement\n",
    "with open(\"data.txt\", \"r\") as file:\n",
    "    # Perform file operations within the block\n",
    "    file_content = file.read()\n",
    "    print(file_content)\n",
    "# File is automatically closed outside the block\n"
   ]
  },
  {
   "cell_type": "code",
   "execution_count": 9,
   "id": "282e204c-3bbe-487a-8b25-09daf38e8c0f",
   "metadata": {},
   "outputs": [],
   "source": [
    "# Ans 6\n",
    "# The write() function is used to write a string of data to a file. It appends the data at the current position of the file pointer.\n",
    "# Open the file in write mode\n",
    "file = open(\"data.txt\", \"w\")\n",
    "\n",
    "# Write data to the file\n",
    "file.write(\"Hello, World!\\n\")\n",
    "file.write(\"This is a sample file.\")\n",
    "\n",
    "# Close the file\n",
    "file.close()\n"
   ]
  },
  {
   "cell_type": "code",
   "execution_count": 10,
   "id": "9421cbbc-67ec-4229-9b16-701f956f1be3",
   "metadata": {},
   "outputs": [],
   "source": [
    "# The writelines() function is used to write a sequence of strings to a file. \n",
    "# It takes an iterable (such as a list or tuple) of strings as input and writes each string as a separate line in the file.\n",
    "# Open the file in write mode\n",
    "file = open(\"data.txt\", \"w\")\n",
    "\n",
    "# Write lines to the file\n",
    "lines = [\"Line 1\\n\", \"Line 2\\n\", \"Line 3\\n\"]\n",
    "file.writelines(lines)\n",
    "\n",
    "# Close the file\n",
    "file.close()\n"
   ]
  },
  {
   "cell_type": "code",
   "execution_count": null,
   "id": "80d87699-2636-421f-b11f-4215a27b15d8",
   "metadata": {},
   "outputs": [],
   "source": []
  }
 ],
 "metadata": {
  "kernelspec": {
   "display_name": "Python 3 (ipykernel)",
   "language": "python",
   "name": "python3"
  },
  "language_info": {
   "codemirror_mode": {
    "name": "ipython",
    "version": 3
   },
   "file_extension": ".py",
   "mimetype": "text/x-python",
   "name": "python",
   "nbconvert_exporter": "python",
   "pygments_lexer": "ipython3",
   "version": "3.10.8"
  }
 },
 "nbformat": 4,
 "nbformat_minor": 5
}
