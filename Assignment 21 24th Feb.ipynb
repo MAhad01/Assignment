{
 "cells": [
  {
   "cell_type": "code",
   "execution_count": 2,
   "id": "444bdd47-ff82-4690-9e85-65f5b3eb3394",
   "metadata": {},
   "outputs": [],
   "source": [
    "# Ans 1: Here are five functions of the Pandas library with their execution:\n",
    "\n",
    "# pd.read_csv() - reads a CSV file into a Pandas DataFrame.\n",
    "# pd.DataFrame() - creates a new Pandas DataFrame.\n",
    "# df.head() - returns the first n rows of a DataFrame.\n",
    "# df.tail() - returns the last n rows of a DataFrame.\n",
    "# f.describe() - returns statistical information about the DataFrame."
   ]
  },
  {
   "cell_type": "code",
   "execution_count": 4,
   "id": "a0a93059-6ef4-4cc3-88e6-f0e66f2efbd5",
   "metadata": {},
   "outputs": [],
   "source": [
    "# Ans 2:\n",
    "import pandas as pd\n",
    "df = pd.DataFrame({'A', 'B', 'C'})\n",
    "def reindex_df(df):\n",
    "    df.index = pd.RangeIndex(start=1, stop=2*len(df)+1, step=2)\n",
    "    return df\n",
    "\n",
    "df = reindex_df(df)"
   ]
  },
  {
   "cell_type": "code",
   "execution_count": 6,
   "id": "3ad02bb3-ca0d-4b8e-ba2b-c15107a91d24",
   "metadata": {},
   "outputs": [
    {
     "name": "stdout",
     "output_type": "stream",
     "text": [
      "Sum: 60\n"
     ]
    }
   ],
   "source": [
    "# Ans 3\n",
    "import pandas as pd\n",
    "\n",
    "df = pd.DataFrame({'Values': [[10, 20, 30, 40, 50]]*5})\n",
    "def sum_values(df):\n",
    "    for i in range(len(df)):\n",
    "        val_sum=sum(df.loc[i]['Values'][:3])\n",
    "    print(f\"Sum: {val_sum}\")\n",
    "                              \n",
    "sum_values(df)"
   ]
  },
  {
   "cell_type": "code",
   "execution_count": null,
   "id": "6965703e-6e7f-4b53-bc63-884e5a1f1867",
   "metadata": {},
   "outputs": [],
   "source": [
    "# Ans 4:\n",
    "def add_word_count(df):\n",
    "    df['Word_Count'] = df['Text'].apply(lambda x: len(str(x).split(\" \")))\n",
    "    return df"
   ]
  },
  {
   "cell_type": "code",
   "execution_count": 7,
   "id": "3a3955f5-ab3c-47f4-8bd9-2e07d8d3727e",
   "metadata": {},
   "outputs": [],
   "source": [
    "# Ans 5:\n",
    "# The size() method of a Pandas DataFrame returns the total number of elements in the DataFrame (i.e., the number of rows times the number of columns). \n",
    "# The shape() method of a Pandas DataFrame returns a tuple representing the dimensions of the DataFrame (i.e., the number of rows and columns)."
   ]
  },
  {
   "cell_type": "code",
   "execution_count": null,
   "id": "f684478b-109c-4070-a102-2b59017f097a",
   "metadata": {},
   "outputs": [],
   "source": [
    "# Ans 6:\n",
    "# the read_excel() function reads excel files.\n",
    "# eg:\n",
    "df1=pd.read_excel(\"LUSID Excel - Setting up your market data.xlsx\")"
   ]
  },
  {
   "cell_type": "code",
   "execution_count": null,
   "id": "870be3f0-6b24-488c-be90-e6fc693649a2",
   "metadata": {},
   "outputs": [],
   "source": [
    "# Ans 7:\n",
    "def add_username(df):\n",
    "    df['Username'] = df['Email'].apply(lambda x: x.split('@')[0])\n",
    "    return df"
   ]
  },
  {
   "cell_type": "code",
   "execution_count": 18,
   "id": "63581d08-1f76-4604-8d6a-08c69717d707",
   "metadata": {},
   "outputs": [
    {
     "data": {
      "text/html": [
       "<div>\n",
       "<style scoped>\n",
       "    .dataframe tbody tr th:only-of-type {\n",
       "        vertical-align: middle;\n",
       "    }\n",
       "\n",
       "    .dataframe tbody tr th {\n",
       "        vertical-align: top;\n",
       "    }\n",
       "\n",
       "    .dataframe thead th {\n",
       "        text-align: right;\n",
       "    }\n",
       "</style>\n",
       "<table border=\"1\" class=\"dataframe\">\n",
       "  <thead>\n",
       "    <tr style=\"text-align: right;\">\n",
       "      <th></th>\n",
       "      <th>A</th>\n",
       "      <th>B</th>\n",
       "      <th>C</th>\n",
       "    </tr>\n",
       "  </thead>\n",
       "  <tbody>\n",
       "    <tr>\n",
       "      <th>1</th>\n",
       "      <td>8</td>\n",
       "      <td>2</td>\n",
       "      <td>7</td>\n",
       "    </tr>\n",
       "    <tr>\n",
       "      <th>2</th>\n",
       "      <td>6</td>\n",
       "      <td>9</td>\n",
       "      <td>4</td>\n",
       "    </tr>\n",
       "    <tr>\n",
       "      <th>4</th>\n",
       "      <td>9</td>\n",
       "      <td>1</td>\n",
       "      <td>2</td>\n",
       "    </tr>\n",
       "  </tbody>\n",
       "</table>\n",
       "</div>"
      ],
      "text/plain": [
       "   A  B  C\n",
       "1  8  2  7\n",
       "2  6  9  4\n",
       "4  9  1  2"
      ]
     },
     "execution_count": 18,
     "metadata": {},
     "output_type": "execute_result"
    }
   ],
   "source": [
    "# Ans 8:\n",
    "df1=pd.DataFrame({'A':[3,8,6,2,9], 'B':[5,2,9,3,1], 'C':[1,7,4,5,2]})\n",
    "def select_rows(df):\n",
    "    return df[(df['A'] > 5) & (df['B'] < 10)]\n",
    "\n",
    "df2=select_rows(df1)\n",
    "df2"
   ]
  },
  {
   "cell_type": "code",
   "execution_count": 22,
   "id": "7651e79c-8040-4dc6-8a67-811fbe75b1ac",
   "metadata": {},
   "outputs": [
    {
     "data": {
      "text/plain": [
       "(30.0, 30.0, 15.811388300841896)"
      ]
     },
     "execution_count": 22,
     "metadata": {},
     "output_type": "execute_result"
    }
   ],
   "source": [
    "# Ans 9:\n",
    "df3=pd.DataFrame({'Values':[10, 20, 30, 40, 50]})\n",
    "def cal(df):\n",
    "    avg=df['Values'].mean()\n",
    "    median=df['Values'].median()\n",
    "    standard_dev=df['Values'].std()\n",
    "    return avg,median,standard_dev\n",
    "cal(df3)"
   ]
  },
  {
   "cell_type": "code",
   "execution_count": null,
   "id": "a6c5337f-21be-4707-b80d-3c8ab226b5bf",
   "metadata": {},
   "outputs": [],
   "source": [
    "# Ans 10:\n",
    "df4=pd.DataFrame({'Sales', 'Date'})\n",
    "def new_col(df):\n",
    "    df['MovingAverage']=df['Sales'].rolling(window=7, min_periods=1).mean()\n",
    "    return df\n",
    "new_col(df4)"
   ]
  },
  {
   "cell_type": "code",
   "execution_count": 27,
   "id": "db015aec-b673-4044-ab35-eb0f881281a9",
   "metadata": {},
   "outputs": [
    {
     "data": {
      "text/html": [
       "<div>\n",
       "<style scoped>\n",
       "    .dataframe tbody tr th:only-of-type {\n",
       "        vertical-align: middle;\n",
       "    }\n",
       "\n",
       "    .dataframe tbody tr th {\n",
       "        vertical-align: top;\n",
       "    }\n",
       "\n",
       "    .dataframe thead th {\n",
       "        text-align: right;\n",
       "    }\n",
       "</style>\n",
       "<table border=\"1\" class=\"dataframe\">\n",
       "  <thead>\n",
       "    <tr style=\"text-align: right;\">\n",
       "      <th></th>\n",
       "      <th>Date</th>\n",
       "      <th>Weekday</th>\n",
       "    </tr>\n",
       "  </thead>\n",
       "  <tbody>\n",
       "    <tr>\n",
       "      <th>0</th>\n",
       "      <td>2023-01-01</td>\n",
       "      <td>Sunday</td>\n",
       "    </tr>\n",
       "    <tr>\n",
       "      <th>1</th>\n",
       "      <td>2023-01-02</td>\n",
       "      <td>Monday</td>\n",
       "    </tr>\n",
       "    <tr>\n",
       "      <th>2</th>\n",
       "      <td>2023-01-03</td>\n",
       "      <td>Tuesday</td>\n",
       "    </tr>\n",
       "    <tr>\n",
       "      <th>3</th>\n",
       "      <td>2023-01-04</td>\n",
       "      <td>Wednesday</td>\n",
       "    </tr>\n",
       "    <tr>\n",
       "      <th>4</th>\n",
       "      <td>2023-01-05</td>\n",
       "      <td>Thursday</td>\n",
       "    </tr>\n",
       "  </tbody>\n",
       "</table>\n",
       "</div>"
      ],
      "text/plain": [
       "        Date    Weekday\n",
       "0 2023-01-01     Sunday\n",
       "1 2023-01-02     Monday\n",
       "2 2023-01-03    Tuesday\n",
       "3 2023-01-04  Wednesday\n",
       "4 2023-01-05   Thursday"
      ]
     },
     "execution_count": 27,
     "metadata": {},
     "output_type": "execute_result"
    }
   ],
   "source": [
    "# Ans 11:\n",
    "df5=pd.DataFrame({'Date':['2023-01-01','2023-01-02','2023-01-03','2023-01-04','2023-01-05']})\n",
    "df5['Date']=pd.to_datetime(df5['Date'])\n",
    "\n",
    "def add_weekday(df):\n",
    "    df['Weekday']=df['Date'].dt.day_name()\n",
    "    return df\n",
    "\n",
    "df5=add_weekday(df5)\n",
    "df5"
   ]
  },
  {
   "cell_type": "code",
   "execution_count": 28,
   "id": "3d2d8d99-d9ae-422a-ad90-6cfb58d8a0c4",
   "metadata": {},
   "outputs": [],
   "source": [
    "# Ans 12\n",
    "def time_date(df):\n",
    "    start_date=pd.to_datetime('2023-01-01')\n",
    "    end_date=pd.to_datetime('2023-01-31')\n",
    "    return df[(df['Date']>=start_date) & (df['Date']<=end_date)]\n",
    "df5=time_date(df5)"
   ]
  },
  {
   "cell_type": "code",
   "execution_count": 29,
   "id": "5ee8e39c-d76a-43ec-b7e8-02e20698787e",
   "metadata": {},
   "outputs": [],
   "source": [
    "# Ans 13\n",
    "# The first and foremost necessary library that needs to be imported to use the basic functions of pandas is ‘pandas’ itself. \n",
    "# We can import it like this:\n",
    "import pandas as pd"
   ]
  },
  {
   "cell_type": "code",
   "execution_count": null,
   "id": "b104f405-aea3-4eeb-8c83-acdcc424d12b",
   "metadata": {},
   "outputs": [],
   "source": []
  }
 ],
 "metadata": {
  "kernelspec": {
   "display_name": "Python 3 (ipykernel)",
   "language": "python",
   "name": "python3"
  },
  "language_info": {
   "codemirror_mode": {
    "name": "ipython",
    "version": 3
   },
   "file_extension": ".py",
   "mimetype": "text/x-python",
   "name": "python",
   "nbconvert_exporter": "python",
   "pygments_lexer": "ipython3",
   "version": "3.10.8"
  }
 },
 "nbformat": 4,
 "nbformat_minor": 5
}
