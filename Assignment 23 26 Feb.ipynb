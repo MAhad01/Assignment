{
 "cells": [
  {
   "cell_type": "code",
   "execution_count": 2,
   "id": "adcd5504-1826-4ef0-8460-d2e2cd0ddde9",
   "metadata": {},
   "outputs": [],
   "source": [
    "import numpy as np\n",
    "list_ = [ '1' , '2' , '3' , '4' , '5' ]\n",
    "array_list = np.array(object = list_)"
   ]
  },
  {
   "cell_type": "code",
   "execution_count": 9,
   "id": "f1fb64b0-3acb-4566-8c7a-ea0c0e9fa1ec",
   "metadata": {},
   "outputs": [
    {
     "name": "stdout",
     "output_type": "stream",
     "text": [
      "The data type of list_ is <class 'list'>\n",
      "The data type of array_list is <class 'numpy.ndarray'>\n"
     ]
    }
   ],
   "source": [
    "# Ans 1\n",
    "\n",
    "# In Python, a list is a collection of elements that are ordered and changeable. \n",
    "# It can contain elements of different data types and is defined using square brackets []. On the other hand, a \n",
    "# NumPy array is a collection of elements that are of the same data type and is defined using the numpy.array() function.\n",
    "\n",
    "print(f\"The data type of list_ is {type(list_)}\")\n",
    "print(f\"The data type of array_list is {type(array_list)}\")"
   ]
  },
  {
   "cell_type": "code",
   "execution_count": 10,
   "id": "f7c462db-3c59-4184-aaf1-2f84d2501465",
   "metadata": {},
   "outputs": [
    {
     "name": "stdout",
     "output_type": "stream",
     "text": [
      "1\n",
      "2\n",
      "3\n",
      "4\n",
      "5\n"
     ]
    }
   ],
   "source": [
    "# Ans 2\n",
    "for idx, ele in enumerate(array_list):\n",
    "    if idx + 1 < array_list.shape[0] and int(ele) > int(array_list[idx+1]):\n",
    "        array_list = np.delete(array_list, idx+1)\n",
    "    print(ele)"
   ]
  },
  {
   "cell_type": "code",
   "execution_count": 11,
   "id": "41b31e7a-09ab-41d4-8868-e2f114ffc535",
   "metadata": {},
   "outputs": [
    {
     "name": "stdout",
     "output_type": "stream",
     "text": [
      "Data types of elements in list_:\n",
      "<class 'str'>\n",
      "<class 'str'>\n",
      "<class 'str'>\n",
      "<class 'str'>\n",
      "<class 'str'>\n",
      "\n",
      "Data types of elements in array_list:\n",
      "<class 'numpy.int64'>\n",
      "<class 'numpy.int64'>\n",
      "<class 'numpy.int64'>\n",
      "<class 'numpy.int64'>\n",
      "<class 'numpy.int64'>\n"
     ]
    }
   ],
   "source": [
    "# Ans 3\n",
    "\n",
    "# Yes s, there will be a difference in the data type of the elements present in both the variables list_ and array_list.\n",
    "#The elements in list_ are strings, while the elements in array_list are integers.\n",
    "# Here is the code to print the data types of each and every element present in both the variables:\n",
    "\n",
    "import numpy as np\n",
    "\n",
    "list_ = ['1', '2', '3', '4', '5']\n",
    "array_list = np.array(object=list_, dtype=int)\n",
    "\n",
    "print(\"Data types of elements in list_:\")\n",
    "for ele in list_:\n",
    "    print(type(ele))\n",
    "\n",
    "print(\"\\nData types of elements in array_list:\")\n",
    "for ele in array_list:\n",
    "    print(type(ele))"
   ]
  },
  {
   "cell_type": "code",
   "execution_count": 12,
   "id": "ddb75db7-bbb9-45ae-96ab-5b3c38074d26",
   "metadata": {},
   "outputs": [
    {
     "name": "stdout",
     "output_type": "stream",
     "text": [
      "The shape of num_array is (2, 3)\n",
      "The size of num_array is 6\n"
     ]
    }
   ],
   "source": [
    "# Ans 4\n",
    "\n",
    "import numpy as np\n",
    "\n",
    "num_list = [[1, 2, 3], [4, 5, 6]]\n",
    "num_array = np.array(object=num_list)\n",
    "\n",
    "# Q4\n",
    "print(f\"The shape of num_array is {num_array.shape}\")\n",
    "print(f\"The size of num_array is {num_array.size}\")\n"
   ]
  },
  {
   "cell_type": "code",
   "execution_count": 14,
   "id": "89478a7c-7e3b-4498-9cdc-40811080e08b",
   "metadata": {},
   "outputs": [
    {
     "data": {
      "text/plain": [
       "array([[0., 0., 0.],\n",
       "       [0., 0., 0.],\n",
       "       [0., 0., 0.]])"
      ]
     },
     "execution_count": 14,
     "metadata": {},
     "output_type": "execute_result"
    }
   ],
   "source": [
    "# Ans 5\n",
    "\n",
    "np.zeros((3,3))"
   ]
  },
  {
   "cell_type": "code",
   "execution_count": 16,
   "id": "6032b107-b147-496c-b783-79f92ecf9cc8",
   "metadata": {},
   "outputs": [
    {
     "data": {
      "text/plain": [
       "array([[1., 0., 0., 0., 0.],\n",
       "       [0., 1., 0., 0., 0.],\n",
       "       [0., 0., 1., 0., 0.],\n",
       "       [0., 0., 0., 1., 0.],\n",
       "       [0., 0., 0., 0., 1.]])"
      ]
     },
     "execution_count": 16,
     "metadata": {},
     "output_type": "execute_result"
    }
   ],
   "source": [
    "# ANs 6\n",
    "\n",
    "np.eye(5,5)"
   ]
  },
  {
   "cell_type": "code",
   "execution_count": null,
   "id": "145c7a81-8ad1-48e7-9354-6281d88d9ca5",
   "metadata": {},
   "outputs": [],
   "source": []
  }
 ],
 "metadata": {
  "kernelspec": {
   "display_name": "Python 3 (ipykernel)",
   "language": "python",
   "name": "python3"
  },
  "language_info": {
   "codemirror_mode": {
    "name": "ipython",
    "version": 3
   },
   "file_extension": ".py",
   "mimetype": "text/x-python",
   "name": "python",
   "nbconvert_exporter": "python",
   "pygments_lexer": "ipython3",
   "version": "3.10.8"
  }
 },
 "nbformat": 4,
 "nbformat_minor": 5
}
