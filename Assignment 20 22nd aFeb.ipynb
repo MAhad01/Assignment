{
 "cells": [
  {
   "cell_type": "code",
   "execution_count": 2,
   "id": "dc99bfa9-222b-477c-adf4-ad454be24cf7",
   "metadata": {},
   "outputs": [],
   "source": [
    "# Ans 1"
   ]
  },
  {
   "cell_type": "code",
   "execution_count": 3,
   "id": "96f282f2-0dce-44f6-a89d-3ebc08497b54",
   "metadata": {},
   "outputs": [
    {
     "name": "stdout",
     "output_type": "stream",
     "text": [
      "Requirement already satisfied: pandas in /opt/conda/lib/python3.10/site-packages (1.5.2)\n",
      "Requirement already satisfied: python-dateutil>=2.8.1 in /opt/conda/lib/python3.10/site-packages (from pandas) (2.8.2)\n",
      "Requirement already satisfied: pytz>=2020.1 in /opt/conda/lib/python3.10/site-packages (from pandas) (2022.6)\n",
      "Requirement already satisfied: numpy>=1.21.0 in /opt/conda/lib/python3.10/site-packages (from pandas) (1.23.5)\n",
      "Requirement already satisfied: six>=1.5 in /opt/conda/lib/python3.10/site-packages (from python-dateutil>=2.8.1->pandas) (1.16.0)\n",
      "Note: you may need to restart the kernel to use updated packages.\n"
     ]
    }
   ],
   "source": [
    "pip install pandas"
   ]
  },
  {
   "cell_type": "code",
   "execution_count": 4,
   "id": "18d920ba-369b-4fe4-9e8f-b77f1a98eb19",
   "metadata": {},
   "outputs": [],
   "source": [
    "import pandas as pd"
   ]
  },
  {
   "cell_type": "code",
   "execution_count": 5,
   "id": "a56a9246-0c33-4ff9-8d33-fdcbaf99cb2c",
   "metadata": {},
   "outputs": [
    {
     "name": "stdout",
     "output_type": "stream",
     "text": [
      "0     4\n",
      "1     8\n",
      "2    15\n",
      "3    16\n",
      "4    23\n",
      "5    42\n",
      "dtype: int64\n"
     ]
    }
   ],
   "source": [
    "data =[4,8,15,16,23,42]\n",
    "series=pd.Series(data)\n",
    "print(series)"
   ]
  },
  {
   "cell_type": "code",
   "execution_count": 6,
   "id": "6dca5288-32dc-49c2-a785-2644b3dd5c70",
   "metadata": {},
   "outputs": [
    {
     "name": "stdout",
     "output_type": "stream",
     "text": [
      "0        99\n",
      "1        77\n",
      "2       546\n",
      "3     Ahad \n",
      "4      3.14\n",
      "5          \n",
      "6       687\n",
      "7     **** \n",
      "8         4\n",
      "9         5\n",
      "dtype: object\n"
     ]
    }
   ],
   "source": [
    "# Ans 2\n",
    "variable=[99,77,546,\" Ahad \",3.14,\"  \",687, \" **** \",4,5]\n",
    "ser=pd.Series(variable)\n",
    "print(ser)"
   ]
  },
  {
   "cell_type": "code",
   "execution_count": 9,
   "id": "c958857b-3041-4c4f-b98c-9ac1256a3d32",
   "metadata": {},
   "outputs": [
    {
     "name": "stdout",
     "output_type": "stream",
     "text": [
      "     Name  Age  Gender\n",
      "0   Alice   25  Female\n",
      "1     Bob   30    Male\n",
      "2  Claire   27  Female\n"
     ]
    }
   ],
   "source": [
    "# Ans 3\n",
    "import pandas as pd\n",
    "\n",
    "data = {'Name': ['Alice', 'Bob', 'Claire'],\n",
    "        'Age': [25, 30, 27],\n",
    "        'Gender': ['Female', 'Male', 'Female']}\n",
    "\n",
    "df = pd.DataFrame(data)\n",
    "\n",
    "print(df)"
   ]
  },
  {
   "cell_type": "code",
   "execution_count": 10,
   "id": "274ce92d-04bd-41a3-a1a7-b3d96ee3cd76",
   "metadata": {},
   "outputs": [
    {
     "name": "stdout",
     "output_type": "stream",
     "text": [
      "Series:\n",
      "0    1\n",
      "1    2\n",
      "2    3\n",
      "3    4\n",
      "4    5\n",
      "dtype: int64\n",
      "\n",
      "Dataframe:\n",
      "   0\n",
      "0  1\n",
      "1  2\n",
      "2  3\n",
      "3  4\n",
      "4  5\n"
     ]
    }
   ],
   "source": [
    "# Ans 4\n",
    "\n",
    "# A Series is a one-dimensional array holding data of any type. \n",
    "# It is a type of list in Pandas that can have labels as keys.\n",
    "\n",
    "#  DataFrame is a collection of series that share the same index. \n",
    "# It is a 2-dimensional data structure which contains multiple lists of heterogeneous type of data.\n",
    "\n",
    "import pandas as pd\n",
    "\n",
    "# Creating a series\n",
    "s = pd.Series([1, 2, 3, 4, 5])\n",
    "\n",
    "# Creating a dataframe from the series\n",
    "df = pd.DataFrame(s)\n",
    "\n",
    "print(\"Series:\")\n",
    "print(s)\n",
    "\n",
    "print(\"\\nDataframe:\")\n",
    "print(df)"
   ]
  },
  {
   "cell_type": "code",
   "execution_count": 11,
   "id": "43faa874-b97e-4b04-a6ff-1f8a3f51c6df",
   "metadata": {},
   "outputs": [],
   "source": [
    "# Ans 5\n",
    "\n",
    "# read_csv(): This function is used to read a comma-separated values (csv) file into a Pandas DataFrame.\n",
    "# head(): This function returns the first n rows of a dataset.\n",
    "# describe(): This function returns a statistical summary of the dataset.\n",
    "# memory_usage(): This function returns the memory usage of each column in bytes.\n",
    "\n",
    "# Eg:\n",
    "# we can read a comma sperated value file as  dataf=pd.read_csv(\"services.csv\")"
   ]
  },
  {
   "cell_type": "code",
   "execution_count": 12,
   "id": "2723eead-c4fe-4a68-8061-eb34b230e68f",
   "metadata": {},
   "outputs": [],
   "source": [
    "# Ans 6\n",
    "\n",
    "# Series and DataFrame are both value-mutable and size-mutable.\n",
    "# Panel is size-mutable but not value-mutable "
   ]
  },
  {
   "cell_type": "code",
   "execution_count": null,
   "id": "a02cabad-4918-4ba0-99b0-402b2ccdf355",
   "metadata": {},
   "outputs": [],
   "source": []
  }
 ],
 "metadata": {
  "kernelspec": {
   "display_name": "Python 3 (ipykernel)",
   "language": "python",
   "name": "python3"
  },
  "language_info": {
   "codemirror_mode": {
    "name": "ipython",
    "version": 3
   },
   "file_extension": ".py",
   "mimetype": "text/x-python",
   "name": "python",
   "nbconvert_exporter": "python",
   "pygments_lexer": "ipython3",
   "version": "3.10.8"
  }
 },
 "nbformat": 4,
 "nbformat_minor": 5
}
