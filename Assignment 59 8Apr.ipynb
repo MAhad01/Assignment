{
 "cells": [
  {
   "cell_type": "code",
   "execution_count": 1,
   "id": "a4130167-86b3-46c8-81e0-6ca13303aa1f",
   "metadata": {},
   "outputs": [],
   "source": [
    "# Ans 1\n",
    "\n",
    "# When developing an SVM regression model to predict house prices based on several characteristics, there are several regression metrics that can be used to evaluate the performance of the model. \n",
    "# Some common regression metrics include mean squared error (MSE), root mean squared error (RMSE), mean absolute error (MAE), and R-squared (R²).\n",
    "\n",
    "# The choice of metric depends on the specific problem and the goals of the analysis. \n",
    "# For example, if the goal is to minimize the average error in the predictions, then MSE or RMSE might be appropriate metrics to use. \n",
    "# If the goal is to minimize the average absolute error in the predictions, then MAE might be a better choice. \n",
    "# If the goal is to explain the variance in the data, then R-squared might be a suitable metric.\n",
    "\n",
    "# In summary, there is no one-size-fits-all answer to which regression metric would be best to employ in this situation. \n",
    "# The choice of metric should be based on the specific goals of the analysis and the characteristics of the data"
   ]
  },
  {
   "cell_type": "code",
   "execution_count": 2,
   "id": "40f5a421-c0ca-40a3-8a58-22227a8b5622",
   "metadata": {},
   "outputs": [],
   "source": [
    "# Ans 2\n",
    "\n",
    "# If your goal is to predict the actual price of a house as accurately as possible, then the Mean Squared Error (MSE) would be a more appropriate evaluation metric to use than R-squared. \n",
    "# MSE measures the average squared difference between the predicted and actual values, and it is commonly used to evaluate the performance of regression models. \n",
    "# A lower MSE value indicates that the model is making more accurate predictions.\n",
    "\n",
    "# R-squared, on the other hand, measures the proportion of variance in the dependent variable that is explained by the independent variables in the model. \n",
    "# While R-squared can provide information about how well the model fits the data, it does not directly measure the accuracy of the predictions.\n",
    "\n",
    "# In summary, if your goal is to predict the actual price of a house as accurately as possible, then MSE would be a more appropriate evaluation metric to use than R-squared."
   ]
  },
  {
   "cell_type": "code",
   "execution_count": 3,
   "id": "af020bd4-28a1-47c9-8f26-d37c8a979321",
   "metadata": {},
   "outputs": [],
   "source": [
    "# ANs 3\n",
    "\n",
    "# If you have a dataset with a significant number of outliers, then the Mean Absolute Error (MAE) would be a more appropriate regression metric to use with your SVM model than the \n",
    "# Mean Squared Error (MSE). MAE measures the average absolute difference between the predicted and actual values, and it is less sensitive to outliers than MSE. \n",
    "# This is because MSE squares the errors, which can result in large values for outliers and can disproportionately affect the overall error."
   ]
  },
  {
   "cell_type": "code",
   "execution_count": 4,
   "id": "f632c897-497a-44cb-8ede-9e5d4087a507",
   "metadata": {},
   "outputs": [],
   "source": [
    "# Ans 4\n",
    "\n",
    "# If you have calculated both the Mean Squared Error (MSE) and the Root Mean Squared Error (RMSE) for your SVM regression model using a polynomial kernel and \n",
    "# found that both values are very close, then either metric could be used to evaluate the performance of the model. \n",
    "# MSE and RMSE are both commonly used regression metrics that measure the average error in the predictions. \n",
    "# The main difference between the two is that RMSE takes the square root of the MSE, which means that it is in the same units as the dependent variable.\n",
    "\n",
    "# In general, if the MSE and RMSE values are very close, then it suggests that there are no large errors in the predictions.\n",
    "# In this case, either metric could be used to evaluate the performance of the model. \n",
    "# However, if you want to compare the performance of your model with other models or with a baseline, then it’s important to use the same metric consistently."
   ]
  },
  {
   "cell_type": "code",
   "execution_count": null,
   "id": "bd79c132-e90b-467a-81d3-f58f5b37c0c9",
   "metadata": {},
   "outputs": [],
   "source": [
    "# ans 5\n",
    "\n",
    "# If your goal is to measure how well the SVM regression models using different kernels (linear, polynomial, and RBF) explain the variance in the target variable,\n",
    "# then the R-squared (R²) metric would be the most appropriate evaluation metric to use. R-squared measures the proportion of variance \n",
    "# in the dependent variable that is explained by the independent variables in the model. \n",
    "# A higher R-squared value indicates that the model is better able to explain the variance in the data."
   ]
  }
 ],
 "metadata": {
  "kernelspec": {
   "display_name": "Python 3 (ipykernel)",
   "language": "python",
   "name": "python3"
  },
  "language_info": {
   "codemirror_mode": {
    "name": "ipython",
    "version": 3
   },
   "file_extension": ".py",
   "mimetype": "text/x-python",
   "name": "python",
   "nbconvert_exporter": "python",
   "pygments_lexer": "ipython3",
   "version": "3.10.8"
  }
 },
 "nbformat": 4,
 "nbformat_minor": 5
}
