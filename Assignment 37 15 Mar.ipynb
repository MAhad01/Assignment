{
 "cells": [
  {
   "cell_type": "code",
   "execution_count": 1,
   "id": "e4760220-3d5b-454e-88f4-604f95d6e5cf",
   "metadata": {},
   "outputs": [],
   "source": [
    "# Ans 1\n",
    "\n",
    "# AI: Personal assistant programs that understand spoken language like Siri or Alexa, recommendation engines like those used by Spotify and Netflix, and self-driving vehicles.\n",
    "# ML: Fraud detection systems that learn to identify fraudulent transactions based on past data, email filtering systems that learn to identify spam based on past data, \n",
    "# and image recognition systems that learn to identify objects in images based on past data.\n",
    "# DL: Speech recognition systems that learn to transcribe speech into text based on audio data, image recognition systems that learn to identify objects \n",
    "# in images based on visual data, and natural language processing systems that learn to understand human language based on text data."
   ]
  },
  {
   "cell_type": "code",
   "execution_count": 2,
   "id": "00785aa9-ff77-4e50-ac7a-cfa5d08fcd0a",
   "metadata": {},
   "outputs": [],
   "source": [
    "# Ans 2\n",
    "\n",
    "# upervised learning is a type of machine learning where the algorithm is trained on a labeled dataset. \n",
    "# The labeled dataset consists of input data and corresponding output data. \n",
    "# The algorithm learns to predict the output for new input data based on the patterns it has learned from the labeled dataset. \n",
    "\n",
    "# Here are some examples of supervised learning:\n",
    "\n",
    "# Image recognition systems that learn to identify objects in images based on labeled image data.\n",
    "# Spam filters that learn to classify emails as spam or not spam based on labeled email data.\n",
    "# Fraud detection systems that learn to identify fraudulent transactions based on labeled transaction data."
   ]
  },
  {
   "cell_type": "code",
   "execution_count": 3,
   "id": "32af9866-695a-42aa-b310-be091f2ee2c2",
   "metadata": {},
   "outputs": [],
   "source": [
    "#Ans 3\n",
    "\n",
    "# Unsupervised learning is a type of machine learning where the algorithm is trained on an unlabeled dataset. \n",
    "# The algorithm learns to identify patterns and structure in the data by itself without any prior human intervention.\n",
    "\n",
    "# Here are some examples of unsupervised learning:\n",
    "\n",
    "# Clustering algorithms that group similar data points together based on their features.\n",
    "# Anomaly detection systems that learn to identify unusual patterns in data.\n",
    "# Dimensionality reduction techniques that learn to represent high-dimensional data in a lower-dimensional space."
   ]
  },
  {
   "cell_type": "code",
   "execution_count": 4,
   "id": "7cc192c8-2fbb-4a56-96d0-734874802ca8",
   "metadata": {},
   "outputs": [],
   "source": [
    "# Ans 4\n",
    "\n",
    "# Artificial Intelligence (AI) is a broad field that involves creating machines that can perform tasks that would typically require human intelligence. \n",
    "# Machine Learning (ML) is a subset of AI that involves training algorithms to learn from data and make predictions or decisions without being explicitly programmed.\n",
    "# Deep Learning (DL) is a subset of ML that involves training deep neural networks with many layers to learn from data and make predictions or decisions. \n",
    "# Data Science (DS) is an interdisciplinary field that involves using scientific methods, processes, algorithms, and systems to extract knowledge and insights from structured\n",
    "# and unstructured data."
   ]
  },
  {
   "cell_type": "code",
   "execution_count": 5,
   "id": "6a6ebd0b-e8a4-438d-8a9d-8755b4370351",
   "metadata": {},
   "outputs": [],
   "source": [
    "# Ans 5\n",
    "\n",
    "# Supervised learning is a type of machine learning where the algorithm is trained on a labeled dataset. \n",
    "# The labeled dataset consists of input data and corresponding output data. \n",
    "# The algorithm learns to predict the output for new input data based on the patterns it has learned from the labeled dataset.\n",
    "\n",
    "# Unsupervised learning is a type of machine learning where the algorithm is trained on an unlabeled dataset. \n",
    "# The algorithm learns to identify patterns and structure in the data by itself without any prior human intervention.\n",
    "\n",
    "# Semi-supervised learning is a type of machine learning that combines both supervised and unsupervised learning. \n",
    "# It involves training an algorithm on a small amount of labeled data and a large amount of unlabeled data. \n",
    "# The algorithm learns to identify patterns and structure in the unlabeled data and uses this information to improve its predictions on the labeled data."
   ]
  },
  {
   "cell_type": "code",
   "execution_count": 6,
   "id": "50d4e85d-40fa-45c9-83e6-ef2d9d0f5d06",
   "metadata": {},
   "outputs": [],
   "source": [
    "# Ans 6\n",
    "\n",
    "# In machine learning, the data is split into three parts: training, validation, and testing sets. \n",
    "# The training set is used to train the model, the validation set is used to tune the model’s hyperparameters, and the testing set is used to evaluate \n",
    "# the model’s performance on unseen data1.\n",
    "\n",
    "\n",
    "# The importance of each split is as follows:\n",
    "\n",
    "# Training set: The largest corpus of your dataset that you reserve for training your model. \n",
    "# After training, inference on these images will be taken with a grain of salt since the model has already had a chance to look at and memorize the correct output. \n",
    "# For a default, it is recommended allocating 70% of your dataset to the training set.\n",
    "\n",
    "# Validation set: A separate section of your dataset that you will use during training to get a sense of how well your model is doing on images that are not being used in training. \n",
    "# The validation set is used to tune the model’s hyperparameters.\n",
    "\n",
    "# Testing set: A section of your dataset that you will use after training to evaluate your model’s performance on unseen data."
   ]
  },
  {
   "cell_type": "code",
   "execution_count": 7,
   "id": "4af7e65d-8052-46cf-95b2-b7edfb8020b8",
   "metadata": {},
   "outputs": [],
   "source": [
    "# Ans 7\n",
    "\n",
    "# Unsupervised learning can be used in anomaly detection by identifying patterns in data that do not conform to expected behavior. \n",
    "# In unsupervised learning, the algorithm is not provided with labeled data, but instead must identify patterns on its own.\n",
    "\n",
    "# Anomaly detection is a common application of unsupervised learning. \n",
    "# The algorithm is trained on normal data and then identifies data points that do not fit the normal pattern as anomalies.\n",
    "\n",
    "# There are several unsupervised learning algorithms that can be used for anomaly detection such as Density Based Scan Clustering (DBSCAN), \n",
    "# Local Outlier Factor (LOF), and Isolation Forest."
   ]
  },
  {
   "cell_type": "code",
   "execution_count": null,
   "id": "dcb35da3-1ab7-42bf-a3ac-48ca9c13c9dd",
   "metadata": {},
   "outputs": [],
   "source": [
    "# ANs 8\n",
    "\n",
    "# commonly used supervised learning algorithms:\n",
    "\n",
    "# Linear Regression\n",
    "# Logistic Regression\n",
    "# Decision Tree\n",
    "# Random Forest\n",
    "# K-Nearest Neighbors (KNN)\n",
    "# Naive Bayes\n",
    "# Support Vector Machine (SVM)\n",
    "\n",
    "# commonly used unsupervised learning algorithms:\n",
    "\n",
    "# K-Means Clustering\n",
    "# Hierarchical Clustering\n",
    "# Principal Component Analysis (PCA)\n",
    "# Independent Component Analysis (ICA)"
   ]
  }
 ],
 "metadata": {
  "kernelspec": {
   "display_name": "Python 3 (ipykernel)",
   "language": "python",
   "name": "python3"
  },
  "language_info": {
   "codemirror_mode": {
    "name": "ipython",
    "version": 3
   },
   "file_extension": ".py",
   "mimetype": "text/x-python",
   "name": "python",
   "nbconvert_exporter": "python",
   "pygments_lexer": "ipython3",
   "version": "3.10.8"
  }
 },
 "nbformat": 4,
 "nbformat_minor": 5
}
