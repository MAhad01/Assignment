{
 "cells": [
  {
   "cell_type": "code",
   "execution_count": null,
   "id": "33deb64d-87a6-48f8-9a35-60548dce3a73",
   "metadata": {},
   "outputs": [],
   "source": [
    "\n",
    "\n",
    "# Q1. A contingency matrix is a table that shows the frequency of different combinations of two categorical variables. \n",
    "# It is also known as a cross-tabulation or a two-way table. A contingency matrix can be used to evaluate the performance of a classification model by comparing the predicted labels \n",
    "# and the actual labels of the test data. The contingency matrix can show how many instances are correctly or incorrectly classified by the model, \n",
    "# and also provide information about the types of errors the model makes, such as false positives and false negatives ¹⁴.\n",
    "\n",
    "# Q2. A pair confusion matrix is a special type of confusion matrix that arises from comparing two clusterings of the same data set ³². \n",
    "# It is a 2 by 2 matrix that counts the number of pairs of samples that are assigned to the same or different clusters under the true and predicted clusterings.\n",
    "# A pair confusion matrix can be useful in certain situations where the cluster labels are not meaningful or consistent, and only the pairwise relationships between samples matter. \n",
    "# For example, a pair confusion matrix can be used to evaluate the performance of a clustering algorithm on a data set of face images, where the true clustering is based on the identity \n",
    "# of the person, and the predicted clustering is based on some other feature, such as the expression or the pose. \n",
    "# A pair confusion matrix can measure how well the predicted clustering preserves the similarity or dissimilarity of the face images, regardless of the actual cluster labels.\n",
    "\n",
    "# Q3. An extrinsic measure is a way of evaluating the performance of a natural language processing (NLP) system based on its impact on a downstream\n",
    "# task or application ²⁹. For example, an extrinsic measure for a language model could be the quality of the generated text in terms of fluency, coherence, relevance, etc.,\n",
    "# or the accuracy of the translation or summarization that uses the language model as a component.\n",
    "# An extrinsic measure typically requires a large amount of data and human evaluation, and it may vary depending on the specific task or domain. \n",
    "# However, an extrinsic measure can provide a more realistic and meaningful assessment of the usefulness and effectiveness of an NLP system in a real-world scenario.\n",
    "\n",
    "# Q4. An intrinsic measure is a way of evaluating the performance of a machine learning system based on its own properties or characteristics, without considering its impact on a \n",
    "# downstream task or application ²⁴. For example, an intrinsic measure for a clustering algorithm could be the compactness or the separation of the clusters, or the likelihood or \n",
    "# the entropy of the data given the clustering model. An intrinsic measure typically requires less data and computation, and it may be more generalizable across different tasks or domains. However, an intrinsic measure may not reflect the actual goal or purpose of the machine learning system, and it may not capture the trade-offs or the constraints involved in a real-world scenario.\n",
    "\n",
    "# Q5. The purpose of a confusion matrix in machine learning is to summarize the performance of a classification model on a set of test data for which the true labels are known ¹⁹.\n",
    "# A confusion matrix shows the number of instances that are correctly or incorrectly classified by the model, as well as the distribution of the errors across the different classes. \n",
    "# A confusion matrix can be used to identify the strengths and weaknesses of a model, such as its accuracy, precision, recall, specificity, sensitivity, F1-score, etc.\n",
    "# A confusion matrix can also help to diagnose the types of errors the model makes, such as false positives and false negatives, and to analyze the confusion or \n",
    "# the misclassification between the classes.\n",
    "\n"
   ]
  }
 ],
 "metadata": {
  "kernelspec": {
   "display_name": "Python 3 (ipykernel)",
   "language": "python",
   "name": "python3"
  },
  "language_info": {
   "codemirror_mode": {
    "name": "ipython",
    "version": 3
   },
   "file_extension": ".py",
   "mimetype": "text/x-python",
   "name": "python",
   "nbconvert_exporter": "python",
   "pygments_lexer": "ipython3",
   "version": "3.10.8"
  }
 },
 "nbformat": 4,
 "nbformat_minor": 5
}
