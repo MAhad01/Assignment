{
 "cells": [
  {
   "cell_type": "code",
   "execution_count": 44,
   "id": "92251676-9a12-433f-8ac9-a8c5fa12918e",
   "metadata": {},
   "outputs": [],
   "source": [
    "# Ans 1\n",
    "class vehicles:\n",
    "    def __init__(self, name_of_vehicle, max_speed, average_of_vehicle):\n",
    "        self.name_of_vehicle1=name_of_vehicle\n",
    "        self.max_speed1=max_speed\n",
    "        self.average_of_vehicle1=average_of_vehicle\n",
    "        "
   ]
  },
  {
   "cell_type": "code",
   "execution_count": 45,
   "id": "4fd9bd1e-10be-49e4-92d4-69524e28746e",
   "metadata": {},
   "outputs": [],
   "source": [
    "# Ans 2\n",
    "class child_car(vehicles):\n",
    "    #def __init__(self, seating_capacity):\n",
    "        #self.__seating_capacity=seating_capacity\n",
    "    \n",
    "    def seating_capcity(self, seating_capacity):\n",
    "        self.__seating_capacity=seating_capacity\n",
    "        return toyota.name_of_vehicle1, self.__seating_capacity"
   ]
  },
  {
   "cell_type": "code",
   "execution_count": 46,
   "id": "f46f42f3-023c-44ec-82c5-80db48c4c5f0",
   "metadata": {},
   "outputs": [],
   "source": [
    "toyota=child_car(\"Camri\", 180, 25)"
   ]
  },
  {
   "cell_type": "code",
   "execution_count": 47,
   "id": "b3ec4d41-a7c8-43a5-b03b-4f97f72957f8",
   "metadata": {},
   "outputs": [
    {
     "data": {
      "text/plain": [
       "('Camri', 5)"
      ]
     },
     "execution_count": 47,
     "metadata": {},
     "output_type": "execute_result"
    }
   ],
   "source": [
    "toyota.seating_capcity(5)"
   ]
  },
  {
   "cell_type": "code",
   "execution_count": 49,
   "id": "74907bed-713e-4a71-9c05-59e84faaebee",
   "metadata": {},
   "outputs": [],
   "source": [
    "# Ans 3\n",
    "# Multiple inheritance is a feature in Python where a class can inherit from more than one base class.\n",
    "class cl1:\n",
    "    def print1(self):\n",
    "        print (\"Out put form 1st class\")"
   ]
  },
  {
   "cell_type": "code",
   "execution_count": 54,
   "id": "508e3284-26ec-4e68-9ab5-45786d3acb22",
   "metadata": {},
   "outputs": [],
   "source": [
    "class cl2:\n",
    "    def print2(self):\n",
    "        print (\"Out put form 2nd class\")"
   ]
  },
  {
   "cell_type": "code",
   "execution_count": 55,
   "id": "87804652-1115-429f-a841-26e5725f1d41",
   "metadata": {},
   "outputs": [],
   "source": [
    "class multi(cl1, cl2):\n",
    "    pass"
   ]
  },
  {
   "cell_type": "code",
   "execution_count": 56,
   "id": "e79ef14a-beb2-49eb-a9a0-3f1e2059c2da",
   "metadata": {},
   "outputs": [
    {
     "name": "stdout",
     "output_type": "stream",
     "text": [
      "Out put form 1st class\n",
      "Out put form 2nd class\n"
     ]
    }
   ],
   "source": [
    "multi_object=multi()\n",
    "multi_object.print1()\n",
    "multi_object.print2()"
   ]
  },
  {
   "cell_type": "code",
   "execution_count": 58,
   "id": "dc47ba92-b79f-4de4-b1e0-2746996e38ed",
   "metadata": {},
   "outputs": [
    {
     "name": "stdout",
     "output_type": "stream",
     "text": [
      "Ahad\n",
      "Abdul\n"
     ]
    }
   ],
   "source": [
    "# Ans 4\n",
    "# getter and setter are methods used to access and modify the value of an instance variable of a class. \n",
    "class Student:\n",
    "    def __init__(self, name):\n",
    "        self.__name = name\n",
    " \n",
    "    def getName(self):\n",
    "        return self.__name\n",
    " \n",
    "    def setName(self, name):\n",
    "        self.__name = name\n",
    " \n",
    " \n",
    "s = Student(\"Ahad\")\n",
    "print(s.getName())\n",
    " \n",
    "s.setName(\"Abdul\")\n",
    "print(s.getName())"
   ]
  },
  {
   "cell_type": "code",
   "execution_count": 59,
   "id": "f294a245-ff44-4994-b276-2af45fbc48dd",
   "metadata": {},
   "outputs": [],
   "source": [
    "# Ans 5\n",
    "# Method overriding is a feature of object-oriented programming that allows a child class to \n",
    "# provide a specific implementation of a method that is already provided by one of its parent classes. \n",
    "class Animal:\n",
    "    def speak(self):\n",
    "        print(\"Animal Speaking\")\n",
    " \n",
    "class Dog(Animal):\n",
    "    def speak(self):\n",
    "        print(\"Dog Speaking\")\n",
    " \n",
    " \n",
    "d = Dog()"
   ]
  },
  {
   "cell_type": "code",
   "execution_count": null,
   "id": "e03f4a9e-e596-41d3-a193-8f9705fda81c",
   "metadata": {},
   "outputs": [],
   "source": []
  }
 ],
 "metadata": {
  "kernelspec": {
   "display_name": "Python 3 (ipykernel)",
   "language": "python",
   "name": "python3"
  },
  "language_info": {
   "codemirror_mode": {
    "name": "ipython",
    "version": 3
   },
   "file_extension": ".py",
   "mimetype": "text/x-python",
   "name": "python",
   "nbconvert_exporter": "python",
   "pygments_lexer": "ipython3",
   "version": "3.10.8"
  }
 },
 "nbformat": 4,
 "nbformat_minor": 5
}
