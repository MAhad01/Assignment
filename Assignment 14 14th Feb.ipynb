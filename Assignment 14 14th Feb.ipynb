{
 "cells": [
  {
   "cell_type": "code",
   "execution_count": 1,
   "id": "5ea135fd-d8b6-404d-ab7f-adae9efb83b3",
   "metadata": {},
   "outputs": [],
   "source": [
    "# Ans 1\n",
    "# Multithreading is a technique that allows multiple threads to run concurrently within a single process.\n",
    "#  improve the performance of programs that involve I/O-bound tasks such as network communication or disk I/O\n",
    "# In Python, multithreading can be achieved using the threading module. \n"
   ]
  },
  {
   "cell_type": "code",
   "execution_count": 2,
   "id": "6e1711c2-73ab-4043-bc32-f8f8c91aab1f",
   "metadata": {},
   "outputs": [],
   "source": [
    "# Ans 2\n",
    "# The threading module in Python is used for creating, controlling, and managing threads.\n",
    "\n",
    "# activeCount(): This function returns the number of thread objects that are active . An active thread is a thread that has been started but has not yet been joined.\n",
    "\n",
    "# currentThread(): This function returns a reference to the current thread object . \n",
    "# The current thread is the thread from which this function is called.\n",
    "\n",
    "# enumerate(): This function returns a list of all thread objects that are currently active . \n",
    "# The list includes the main thread and all active daemon threads."
   ]
  },
  {
   "cell_type": "code",
   "execution_count": 3,
   "id": "72f6fdec-fada-4c1d-ad44-29fbce081c60",
   "metadata": {},
   "outputs": [],
   "source": [
    "# Ans 3\n",
    "\n",
    "# run(): This method is the entry point for a thread. It is called when the start() method is called on an instance of the Thread class. \n",
    "# The run() method contains the code that is executed in the thread.\n",
    "\n",
    "# start(): This method starts a new thread by calling the run() method. \n",
    "# When start() is called, a new thread is created and the run() method is executed in that thread.\n",
    "\n",
    "# join(): This method waits for a thread to complete its execution. \n",
    "# When join() is called on a thread object, the calling thread is blocked until the thread being joined completes its execution.\n",
    "\n",
    "# isAlive(): This method returns True if a thread is alive and False otherwise. \n",
    "# A thread is considered alive if it has been started but has not yet completed its execution."
   ]
  },
  {
   "cell_type": "code",
   "execution_count": 4,
   "id": "b6e6c3bf-0add-4828-9453-bc668d0f6ff1",
   "metadata": {},
   "outputs": [
    {
     "name": "stdout",
     "output_type": "stream",
     "text": [
      "1 squared is 1\n",
      "2 squared is 4\n",
      "3 squared is 9\n",
      "4 squared is 16\n",
      "5 squared is 25\n",
      "6 squared is 36\n",
      "7 squared is 49\n",
      "8 squared is 64\n",
      "9 squared is 81\n",
      "10 squared is 100\n",
      "1 cubed is 1\n",
      "2 cubed is 8\n",
      "3 cubed is 27\n",
      "4 cubed is 64\n",
      "5 cubed is 125\n",
      "6 cubed is 216\n",
      "7 cubed is 343\n",
      "8 cubed is 512\n",
      "9 cubed is 729\n",
      "10 cubed is 1000\n"
     ]
    }
   ],
   "source": [
    "# Ans 4\n",
    "\n",
    "import threading\n",
    "\n",
    "def print_squares():\n",
    "    for i in range(1, 11):\n",
    "        print(f\"{i} squared is {i**2}\")\n",
    "\n",
    "def print_cubes():\n",
    "    for i in range(1, 11):\n",
    "        print(f\"{i} cubed is {i**3}\")\n",
    "\n",
    "t1 = threading.Thread(target=print_squares)\n",
    "t2 = threading.Thread(target=print_cubes)\n",
    "\n",
    "t1.start()\n",
    "t2.start()\n",
    "\n",
    "t1.join()\n",
    "t2.join()"
   ]
  },
  {
   "cell_type": "code",
   "execution_count": 5,
   "id": "0ded6d9e-1693-4acc-9de3-55ad1c6f6848",
   "metadata": {},
   "outputs": [],
   "source": [
    "# Ans 5\n",
    "\n",
    "# Advantages:\n",
    "\n",
    "# 1- Enhanced performance by decreased development time\n",
    "# 2- Simplified and streamlined program coding\n",
    "# 3- Improvised GUI responsiveness\n",
    "# 4- Simultaneous and parallelized occurrence of tasks\n",
    "\n",
    "# Disadvantages\n",
    "\n",
    "#Code writing, debugging, managing concurrency, testing, porting existing code is difficult in multithreading and multicontexting.\n",
    "# Context switching between threads consumes CPU time and resources, \n",
    "# which can lead to performance degradation if not managed efficiently."
   ]
  },
  {
   "cell_type": "code",
   "execution_count": null,
   "id": "f44b1df0-203e-4f77-b90e-57fd6012a27a",
   "metadata": {},
   "outputs": [],
   "source": [
    "# Ans 6\n",
    "# A deadlock occurs when two or more threads are blocked waiting for each other to release resources.\n",
    "# A race condition occurs when two or more threads access shared data and try to modify it at the same time."
   ]
  }
 ],
 "metadata": {
  "kernelspec": {
   "display_name": "Python 3 (ipykernel)",
   "language": "python",
   "name": "python3"
  },
  "language_info": {
   "codemirror_mode": {
    "name": "ipython",
    "version": 3
   },
   "file_extension": ".py",
   "mimetype": "text/x-python",
   "name": "python",
   "nbconvert_exporter": "python",
   "pygments_lexer": "ipython3",
   "version": "3.10.8"
  }
 },
 "nbformat": 4,
 "nbformat_minor": 5
}
