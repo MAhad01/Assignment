{
 "cells": [
  {
   "cell_type": "code",
   "execution_count": 2,
   "id": "474a9015-9f7c-4096-8845-368165d1d016",
   "metadata": {},
   "outputs": [],
   "source": [
    "# Answers:"
   ]
  },
  {
   "cell_type": "code",
   "execution_count": 3,
   "id": "16a8ef87-7b2f-43bc-ab43-2b47d8e3b7c6",
   "metadata": {},
   "outputs": [
    {
     "name": "stdout",
     "output_type": "stream",
     "text": [
      "Scaler\n",
      "Scaler\n",
      "Scaler\n",
      "Scaler\n",
      "1\n",
      "2\n",
      "3\n",
      "4\n",
      "5\n"
     ]
    }
   ],
   "source": [
    "# Ans 1:\n",
    "# The For loop is used when we know the number of iterations, that is, how many times a statement must be executed. \n",
    "# That is why, when we initialize the for loop, we must define the termination point.\n",
    "a = [1,2,3,4]\n",
    "for i in a:\n",
    "    print(\"Scaler\")\n",
    "    \n",
    "    \n",
    "    \n",
    "    \n",
    "# A while loop is used when we need to finish the loop on a criteria other than the number of repetitions.\n",
    "\n",
    "i = 1  \n",
    "while i < 6:  \n",
    "    print(i)\n",
    "    i += 1  "
   ]
  },
  {
   "cell_type": "code",
   "execution_count": 4,
   "id": "855f21ea-e32a-4d01-8887-60114979e327",
   "metadata": {},
   "outputs": [
    {
     "name": "stdout",
     "output_type": "stream",
     "text": [
      "Sum of first 10 natural number using while loop: \n",
      "55\n",
      "Sum of first 10 natural numbers by For loop: \n",
      "55\n",
      "Product of first 10 natural numbers by While loop: \n",
      "3628800\n",
      "Product of first 10 natural numbers by For loop: \n",
      "3628800\n"
     ]
    }
   ],
   "source": [
    "# Ans 2:\n",
    "# Sum of first 10 natural numbers:\n",
    "# by while loop\n",
    "print(\"Sum of first 10 natural number using while loop: \")\n",
    "i=1\n",
    "ans=0\n",
    "while(i<11):\n",
    "    ans=ans+i\n",
    "    i+=1\n",
    "print (ans)\n",
    "\n",
    "# by for loop\n",
    "print(\"Sum of first 10 natural numbers by For loop: \")\n",
    "ans2=0\n",
    "l1=[1,2,3,4,5,6,7,8,9,10]\n",
    "for j in l1:\n",
    "    ans2=ans2+j\n",
    "print(ans2)\n",
    "\n",
    "# Product of first 10 natural numbers:\n",
    "# by while loop\n",
    "print(\"Product of first 10 natural numbers by While loop: \")\n",
    "k=1\n",
    "ans3=1\n",
    "while(k<11):\n",
    "    ans3=ans3*k\n",
    "    k+=1\n",
    "print(ans3)\n",
    "\n",
    "\n",
    "# by for loop:\n",
    "print(\"Product of first 10 natural numbers by For loop: \")\n",
    "ans4=1\n",
    "for l in l1:\n",
    "    ans4=ans4*l\n",
    "print(ans4)"
   ]
  },
  {
   "cell_type": "code",
   "execution_count": 5,
   "id": "69ac27a6-5a89-4a7c-8aa2-42f8a97baee7",
   "metadata": {},
   "outputs": [
    {
     "name": "stdin",
     "output_type": "stream",
     "text": [
      "Enter electricity consumed:  310\n"
     ]
    },
    {
     "name": "stdout",
     "output_type": "stream",
     "text": [
      "your bill is: 2250.0\n"
     ]
    }
   ],
   "source": [
    "# Ans 3:\n",
    "\n",
    "units=int(input(\"Enter electricity consumed: \"))\n",
    "bill=0\n",
    "while True: \n",
    "    if units<=100 : \n",
    "        bill=units*4.5 \n",
    "    elif units>100 and units<=200 : \n",
    "        bill=(100*4.5)+((units-100)*6) \n",
    "    elif units>200 and units<=300 : \n",
    "        bill=(100*4.5)+(100*6)+((units-200)*10) \n",
    "    else: \n",
    "        bill=(100*4.5)+(100*6)+(100*10)+((units-300)*20)\n",
    "    break\n",
    "print(f\"your bill is: {bill}\")"
   ]
  },
  {
   "cell_type": "code",
   "execution_count": 3,
   "id": "b39f426b-cded-453f-a3c9-fedd75acc327",
   "metadata": {},
   "outputs": [
    {
     "name": "stdout",
     "output_type": "stream",
     "text": [
      "[8, 64, 125, 216, 512, 1000, 1728, 2744, 3375, 4096, 5832, 8000, 10648, 13824, 15625, 17576, 21952, 27000, 32768, 39304, 42875, 46656, 54872, 64000, 74088, 85184, 91125, 97336, 110592, 125000, 140608, 157464, 166375, 175616, 195112, 216000, 238328, 262144, 274625, 287496, 314432, 343000, 373248, 405224, 421875, 438976, 474552, 512000, 551368, 592704, 614125, 636056, 681472, 729000, 778688, 830584, 857375, 884736, 941192, 1000000]\n"
     ]
    }
   ],
   "source": [
    "# Ans 4:\n",
    "i=1\n",
    "l=[]\n",
    "ans=[]\n",
    "while i<=100 :\n",
    "    l.append(i)\n",
    "    i+=1\n",
    "\n",
    "cub=[]\n",
    "for j in l:\n",
    "    cub.append(j*j*j)\n",
    "for k in cub:\n",
    "    if k%4==0 or k%5==0:\n",
    "        ans.append(k)\n",
    "print(ans)"
   ]
  },
  {
   "cell_type": "code",
   "execution_count": null,
   "id": "aceca52b-aa4d-4d4c-96ee-0151343ca873",
   "metadata": {},
   "outputs": [],
   "source": [
    "# Ans 5:\n",
    "st= \"I want to become a data scientist\"\n",
    "vov=[]\n",
    "for i in list(st):\n",
    "    if i=='a' or i=='e' or i=='i' or i=='o' or i=='u' or i=='A' or i=='E' or i=='I' or i=='O' or i=='U':\n",
    "        vov.append(i)\n",
    "print(len(vov))"
   ]
  },
  {
   "cell_type": "code",
   "execution_count": null,
   "id": "23c60a89-e904-449e-8e5c-ec706500a330",
   "metadata": {},
   "outputs": [],
   "source": []
  }
 ],
 "metadata": {
  "kernelspec": {
   "display_name": "Python 3 (ipykernel)",
   "language": "python",
   "name": "python3"
  },
  "language_info": {
   "codemirror_mode": {
    "name": "ipython",
    "version": 3
   },
   "file_extension": ".py",
   "mimetype": "text/x-python",
   "name": "python",
   "nbconvert_exporter": "python",
   "pygments_lexer": "ipython3",
   "version": "3.10.8"
  }
 },
 "nbformat": 4,
 "nbformat_minor": 5
}
