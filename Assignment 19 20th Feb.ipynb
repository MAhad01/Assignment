{
 "cells": [
  {
   "cell_type": "code",
   "execution_count": 1,
   "id": "a6d1b8ad-5484-47d0-9882-c85e95b0a680",
   "metadata": {},
   "outputs": [],
   "source": [
    "# Ans 1\n",
    "\n",
    "# In GET method, values are visible in the URL while in POST method, values are not visible in the URL. \n",
    "# GET has a limitation on the length of the values, generally 255 characters whereas POST has no limitation on \n",
    "# the length of the values since they are submitted via the body of HTTP"
   ]
  },
  {
   "cell_type": "code",
   "execution_count": 2,
   "id": "d0376a53-780e-4f4e-9616-a1b21bc3c618",
   "metadata": {},
   "outputs": [],
   "source": [
    "# Ans 2\n",
    "\n",
    "# The request object is used to retrieve data submitted in forms and to access query string arguments.\n",
    "# It is also used to access uploaded files and cookies "
   ]
  },
  {
   "cell_type": "code",
   "execution_count": 3,
   "id": "ed884c06-6b58-4ac8-8813-874fcc4f18d4",
   "metadata": {},
   "outputs": [],
   "source": [
    "# Ans 3\n",
    "\n",
    "# In Flask, redirect() is used to redirect the user to a specified URL and assign a specified status code. \n",
    "# When this function is called, a response object is returned, and the redirection happens to the target location with the status code."
   ]
  },
  {
   "cell_type": "code",
   "execution_count": 4,
   "id": "c5a1c277-aa50-4f2d-8d45-9d9c5a4eb899",
   "metadata": {},
   "outputs": [],
   "source": [
    "# Ans 4\n",
    "\n",
    "# In Flask, a template is a file that contains HTML code with placeholders for dynamic data. \n",
    "# The placeholders are replaced with actual data when the template is rendered.\n",
    "# Flask uses the Jinja2 templating engine to render templates"
   ]
  },
  {
   "cell_type": "markdown",
   "id": "5eb6b08d-00d7-442a-b42a-f7e8ca2d73f3",
   "metadata": {},
   "source": [
    "# Ans 5\n",
    "<img src=\"\">"
   ]
  }
 ],
 "metadata": {
  "kernelspec": {
   "display_name": "Python 3 (ipykernel)",
   "language": "python",
   "name": "python3"
  },
  "language_info": {
   "codemirror_mode": {
    "name": "ipython",
    "version": 3
   },
   "file_extension": ".py",
   "mimetype": "text/x-python",
   "name": "python",
   "nbconvert_exporter": "python",
   "pygments_lexer": "ipython3",
   "version": "3.10.8"
  }
 },
 "nbformat": 4,
 "nbformat_minor": 5
}
