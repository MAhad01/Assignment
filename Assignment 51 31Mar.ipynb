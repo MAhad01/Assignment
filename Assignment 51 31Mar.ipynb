{
 "cells": [
  {
   "cell_type": "code",
   "execution_count": 1,
   "id": "9a4b27ce-6995-4537-9891-b4c0ad60a8df",
   "metadata": {},
   "outputs": [],
   "source": [
    "# Ans 1\n",
    "\n",
    "# the key steps involved in building an end-to-end web application, from development to deployment on the cloud are:\n",
    "\n",
    "# 1. Data collection\n",
    "# 2. Exploratory Data Analysis\n",
    "# 3. Feature Engineering\n",
    "# 4. Feature Selection\n",
    "# 5. Applying Machine Learning Algorithms\n",
    "# 6. Integrating the (pickled) ML algorithm with an app (such as web app of flask)\n",
    "# 7. Deploying the project on cloud service (like: AWS, Azure, etc)."
   ]
  },
  {
   "cell_type": "code",
   "execution_count": 2,
   "id": "c7ea1c96-6744-4dd1-a48f-ec3e2ac9d838",
   "metadata": {},
   "outputs": [],
   "source": [
    "# Ans 2\n",
    "\n",
    "# Traditional web hosting and cloud hosting are two different ways of hosting websites. \n",
    "# In traditional web hosting, a website is hosted on a single server, which is responsible for storing the website data and files. \n",
    "# This server can be shared by multiple websites or dedicated to a single website. Traditional web hosting solutions include Shared Hosting, VPS Hosting, and Dedicated Hosting .\n",
    "\n",
    "# On the other hand, cloud hosting stores website data and files on multiple servers instead of a single server. \n",
    "# This means that if one server fails, the website can still be accessed from another server. \n",
    "# Cloud hosting offers maximum data redundancy, security, scalability, uptime guarantee, and performance compared to traditional hosting solutions.\n",
    "\n",
    "# Cloud hosting is more flexible than traditional web hosting as it allows users to scale their resources up or down based on their website’s traffic demands. \n",
    "# Cloud hosting is also more cost-effective than traditional web hosting as users only pay for the resources they use.\n",
    "\n",
    "# In summary, while traditional web hosting is suitable for small websites with minimal traffic, cloud hosting is ideal for websites with fluctuating traffic demands \n",
    "# and requires maximum uptime guarantee, security, and performance."
   ]
  },
  {
   "cell_type": "code",
   "execution_count": 3,
   "id": "70eb2bd8-c53f-42a7-a9a0-481f36fda81d",
   "metadata": {},
   "outputs": [],
   "source": [
    "# Ans 3\n",
    "\n",
    "# Here are some factors to consider when selecting a cloud provider:\n",
    "\n",
    "# Reliability and Capability: It’s essential to assess the reliability and capability of a service provider that you plan to entrust with your organization’s applications and data. \n",
    "# You should check the provider’s reputation, its level of cloud experience, and read reviews from customers whose situation is similar to yours.\n",
    "\n",
    "# Business and Financial Health: The provider should have a track record of stability and be in a healthy financial position with sufficient capital to operate \n",
    "# successfully over the long term .\n",
    "\n",
    "# Organization, Governance, Planning, and Risk Management: The provider should have a formal management structure, established risk management policies, \n",
    "# and a formal process for assessing third-party service providers and vendors .\n",
    "\n",
    "# Trust: You should like the company and its principles. Check the provider’s reputation and see who its partners are .\n",
    "\n",
    "# Administration Support Service Level Agreements (SLAs): Providers should be able to promise you a basic level of service that you are comfortable with .\n",
    "\n",
    "# Performance Reporting: The provider should be able to give you performance reports ."
   ]
  },
  {
   "cell_type": "code",
   "execution_count": 4,
   "id": "bc3c58df-fbcc-4812-b7d3-19285e2c1bb2",
   "metadata": {},
   "outputs": [],
   "source": [
    "# Ans 4\n",
    "\n",
    "# esigning and building a responsive user interface for your web application is essential to ensure that your website is accessible and usable across all devices and screen sizes. \n",
    "# Here are some best practices to follow:\n",
    "\n",
    "# Mobile-First Design: Start by designing the mobile version of your website first and then scale up to larger screens. \n",
    "# This approach helps you prioritize the most important content and features for mobile users, which can help improve the overall user experience .\n",
    "\n",
    "# Use a Grid System: A grid system helps you create a consistent layout across all devices and screen sizes. \n",
    "# t also makes it easier to organize content and ensure that it’s easy to read and navigate .\n",
    "\n",
    "# Optimize Images: Large images can slow down your website’s loading speed, which can negatively impact the user experience. Optimize images by compressing them without losing quality .\n",
    "\n",
    "# Use Responsive Typography: Use typography that is easy to read on all devices and screen sizes. Make sure that the font size, line height, and spacing are optimized for each device .\n",
    "\n",
    "# Simplify Navigation: Keep your navigation simple and easy to use. Use clear labels and organize your navigation in a way that makes sense to users ."
   ]
  },
  {
   "cell_type": "code",
   "execution_count": null,
   "id": "bb5eb175-4f47-40ce-8f36-c601a3ff33c6",
   "metadata": {},
   "outputs": [],
   "source": [
    "# Ans 5\n",
    "\n",
    "# 1. We tested multiple algorithms and pickled the most accurate.\n",
    "# 2. We used the flask library of python to integrte the front end HTML, with the help of form to add it to pickled algorithm.\n",
    "# 3. We displayed the predicted result in a seperate h1 tag.\n",
    "\n",
    "# The libraries used were:\n",
    "# Flask, numpy, pandas, pickle"
   ]
  }
 ],
 "metadata": {
  "kernelspec": {
   "display_name": "Python 3 (ipykernel)",
   "language": "python",
   "name": "python3"
  },
  "language_info": {
   "codemirror_mode": {
    "name": "ipython",
    "version": 3
   },
   "file_extension": ".py",
   "mimetype": "text/x-python",
   "name": "python",
   "nbconvert_exporter": "python",
   "pygments_lexer": "ipython3",
   "version": "3.10.8"
  }
 },
 "nbformat": 4,
 "nbformat_minor": 5
}
