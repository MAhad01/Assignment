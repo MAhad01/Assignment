{
 "cells": [
  {
   "cell_type": "code",
   "execution_count": 1,
   "id": "867878f7-df93-4279-a756-8d1402d558a9",
   "metadata": {},
   "outputs": [],
   "source": [
    "# Ans 1\n",
    "\n",
    "# Lasso Regression is a regression analysis method that performs both variable selection and regularization.\n",
    "# Lasso regression uses soft thresholding. Lasso regression selects only a subset of the provided covariates for use in the final model.\n",
    "\n",
    "# The difference between Lasso Regression and other regression techniques is that Lasso Regression adds a penalty term to the cost function that shrinks the coefficients \n",
    "# of less important features towards zero."
   ]
  },
  {
   "cell_type": "code",
   "execution_count": 2,
   "id": "0a3151be-2c06-4581-bde0-674364f89410",
   "metadata": {},
   "outputs": [],
   "source": [
    "# Ans 2\n",
    "\n",
    "# The main advantage of using Lasso Regression in feature selection is that it shrinks the coefficients of less important features towards zero, \n",
    "# which helps to reduce the variance of the estimates and improve the stability of the model."
   ]
  },
  {
   "cell_type": "code",
   "execution_count": 3,
   "id": "f3d21084-3138-4a99-b0f7-8a762d73cff5",
   "metadata": {},
   "outputs": [],
   "source": [
    "# Ans 3\n",
    "\n",
    "# The coefficients of Lasso Regression can be interpreted in the same way as those of ordinary least squares (OLS) regression.\n",
    "# The difference is that Lasso Regression adds a penalty term to the cost function that shrinks the coefficients of less important features towards zero."
   ]
  },
  {
   "cell_type": "code",
   "execution_count": 4,
   "id": "ce6050d3-056f-4bbf-aa0b-ac9244a0c24c",
   "metadata": {},
   "outputs": [],
   "source": [
    "# Ans 4\n",
    "\n",
    "# The tuning parameter in Lasso Regression is typically chosen using cross-validation. The tuning parameter controls the strength of the penalty term in Lasso Regression. \n",
    "# It is basically the amount of shrinkage, where data values are shrunk towards a central point, like the mean."
   ]
  },
  {
   "cell_type": "code",
   "execution_count": 5,
   "id": "64e9ea5b-4e0c-435c-a61e-7c53c82f01cd",
   "metadata": {},
   "outputs": [],
   "source": [
    "# ans 5\n",
    "\n",
    "# Lasso Regression can be used for non-linear regression problems by adding polynomial terms of the independent variables as features. \n",
    "#  The coefficients of Lasso Regression can be interpreted in the same way as those of ordinary least squares (OLS) regression."
   ]
  },
  {
   "cell_type": "code",
   "execution_count": 6,
   "id": "ed96d94f-e350-434b-866a-fbaa4c037fc1",
   "metadata": {},
   "outputs": [],
   "source": [
    "# Ans 6\n",
    "\n",
    "# The main difference between Ridge Regression and Lasso Regression is that Ridge Regression adds a penalty term to the cost function that shrinks the coefficients of \n",
    "# less important features towards zero but does not set them exactly to zero, while Lasso Regression adds a penalty term to the cost function that shrinks the coefficients of \n",
    "# less important features to zero"
   ]
  },
  {
   "cell_type": "code",
   "execution_count": 7,
   "id": "8d46946e-c6e1-47c5-a29c-2ffa3ed087bd",
   "metadata": {},
   "outputs": [],
   "source": [
    "# Ans 7\n",
    "\n",
    "# Lasso Regression can handle multicollinearity in the input features by shrinking the coefficients of less important features towards zero. \n",
    "# The difference between Ridge Regression and Lasso Regression is that Ridge Regression shrinks the coefficients of less important features towards zero but does not set\n",
    "# them exactly to zero, while Lasso Regression shrinks the coefficients of less important features to zero."
   ]
  },
  {
   "cell_type": "code",
   "execution_count": null,
   "id": "2110e090-7ed8-4f26-a9b3-842c0b9fa0e9",
   "metadata": {},
   "outputs": [],
   "source": [
    "# Ans 8\n",
    "\n",
    "# The optimal value of the regularization parameter (lambda) in Lasso Regression is typically chosen using cross-validation. \n",
    "# The tuning parameter controls the strength of the penalty term in Lasso Regression. \n",
    "# It is basically the amount of shrinkage, where data values are shrunk towards a central point, like the mean."
   ]
  }
 ],
 "metadata": {
  "kernelspec": {
   "display_name": "Python 3 (ipykernel)",
   "language": "python",
   "name": "python3"
  },
  "language_info": {
   "codemirror_mode": {
    "name": "ipython",
    "version": 3
   },
   "file_extension": ".py",
   "mimetype": "text/x-python",
   "name": "python",
   "nbconvert_exporter": "python",
   "pygments_lexer": "ipython3",
   "version": "3.10.8"
  }
 },
 "nbformat": 4,
 "nbformat_minor": 5
}
