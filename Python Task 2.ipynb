{
 "cells": [
  {
   "cell_type": "code",
   "execution_count": 8,
   "id": "6cccd0eb-d048-429f-b8d9-3dbc9332282a",
   "metadata": {},
   "outputs": [
    {
     "name": "stdin",
     "output_type": "stream",
     "text": [
      "Enter your password:  AAbbcc12%^&*(43\n"
     ]
    },
    {
     "name": "stdout",
     "output_type": "stream",
     "text": [
      "Valid Password\n"
     ]
    }
   ],
   "source": [
    "# Ans 1\n",
    "Entered_password=str(input(\"Enter your password: \"))\n",
    "def checkPassword(password):\n",
    "    temp1=list(password)\n",
    "#print(temp1)\n",
    "    capitalList=[]\n",
    "    smallList=[]\n",
    "    numList=[]\n",
    "    specialList=[]\n",
    "    for i in temp1:\n",
    "        if ord(i)>=65 and ord(i)<=90:\n",
    "            capitalList.append(i)\n",
    "    for j in temp1:\n",
    "        if ord(j)>=97 and ord(j)<=122:\n",
    "            smallList.append(j)\n",
    "    for k in temp1:\n",
    "        if ord(k)>=48 and ord(k)<=57:\n",
    "            numList.append(k)\n",
    "    for l in temp1:\n",
    "        if ord(l)>=33 and ord(l)<=47:\n",
    "            specialList.append(l)\n",
    "\n",
    "    if len(capitalList)>=2 and len(smallList)>=2 and len(numList)>=1 and len(specialList)>=3:\n",
    "        return \"Valid Password\"\n",
    "    else:\n",
    "        return \"Invalid Password\"\n",
    "\n",
    "print(checkPassword(Entered_password))"
   ]
  },
  {
   "cell_type": "code",
   "execution_count": 19,
   "id": "bcae2564-5e63-403d-87ef-3a9f7f93a813",
   "metadata": {},
   "outputs": [
    {
     "name": "stdout",
     "output_type": "stream",
     "text": [
      "True\n"
     ]
    }
   ],
   "source": [
    "# Ans 2\n",
    "# Check if the string starts with a particular letter say \"H\"\n",
    "starts_with = lambda x: True if x.startswith(\"H\") else False\n",
    "\n",
    "print(starts_with(\"Hello, World!\"))\n"
   ]
  },
  {
   "cell_type": "code",
   "execution_count": 20,
   "id": "b19e993e-643f-455f-978e-14323a140473",
   "metadata": {},
   "outputs": [
    {
     "name": "stdout",
     "output_type": "stream",
     "text": [
      "True\n",
      "True\n",
      "False\n"
     ]
    }
   ],
   "source": [
    "# Check if the string is numeric\n",
    "is_numeric = lambda s: s.replace('.', '', 1).isdigit()\n",
    "\n",
    "print(is_numeric('1234'))\n",
    "print(is_numeric('12.34'))\n",
    "print(is_numeric('abcd'))"
   ]
  },
  {
   "cell_type": "code",
   "execution_count": 23,
   "id": "49df9137-9124-4953-81d1-69cab6a0dad3",
   "metadata": {},
   "outputs": [
    {
     "name": "stdout",
     "output_type": "stream",
     "text": [
      "[('orange', 80), ('mango', 99), ('grapes', 1000)]\n"
     ]
    }
   ],
   "source": [
    "# Sort a list of tuples having fruit names and their quantity. [(\"mango\",99),(\"orange\",80), (\"grapes\", 1000)-\n",
    "tup=[(\"mango\",99),(\"orange\",80), (\"grapes\", 1000)]\n",
    "tup.sort(key=lambda x: x[1])\n",
    "print(tup)"
   ]
  },
  {
   "cell_type": "code",
   "execution_count": 29,
   "id": "02915b4a-f426-4e44-8fa6-00d387c7cbac",
   "metadata": {},
   "outputs": [
    {
     "name": "stdout",
     "output_type": "stream",
     "text": [
      "[1, 4, 9, 16, 25, 36, 49, 64, 81, 100]\n"
     ]
    }
   ],
   "source": [
    "# Find the squares of numbers from 1 to 10Y\n",
    "l=[1,2,3,4,5,6,7,8,9,10]\n",
    "sq=list(map(lambda x: x**2, l))\n",
    "print(sq)"
   ]
  },
  {
   "cell_type": "code",
   "execution_count": 30,
   "id": "ebd9d027-7839-464e-b7a3-969ff2469275",
   "metadata": {},
   "outputs": [
    {
     "name": "stdout",
     "output_type": "stream",
     "text": [
      "[1.0, 1.2599210498948732, 1.4422495703074083, 1.5874010519681994, 1.7099759466766968, 1.8171205928321397, 1.912931182772389, 2.0, 2.080083823051904, 2.154434690031884]\n"
     ]
    }
   ],
   "source": [
    "# Find the cube root of numbers from 1 to 10\n",
    "l=[1,2,3,4,5,6,7,8,9,10]\n",
    "cub_root=list(map(lambda x: x**(1/3), l))\n",
    "print(cub_root)"
   ]
  },
  {
   "cell_type": "code",
   "execution_count": 33,
   "id": "1129163d-0bbd-4648-890c-28806851b4a3",
   "metadata": {},
   "outputs": [
    {
     "data": {
      "text/plain": [
       "True"
      ]
     },
     "execution_count": 33,
     "metadata": {},
     "output_type": "execute_result"
    }
   ],
   "source": [
    "# Check if a given number is even\n",
    "num=9754\n",
    "ans=lambda x: True if x%2==0 else False\n",
    "ans(num)"
   ]
  },
  {
   "cell_type": "code",
   "execution_count": 37,
   "id": "25499a1e-0741-4279-b1c3-1e43ef01dd17",
   "metadata": {},
   "outputs": [
    {
     "name": "stdout",
     "output_type": "stream",
     "text": [
      "[1, 3, 5, 7, 9]\n"
     ]
    }
   ],
   "source": [
    "# Filter odd numbers from the given list.\n",
    "l1=[1,2,3,4,5,6,7,8,9,10]\n",
    "ans=list(filter(lambda x: x%2!=0, l1))\n",
    "print(ans)"
   ]
  },
  {
   "cell_type": "code",
   "execution_count": null,
   "id": "c7639320-0ea8-4bf5-a3d8-4bca17acf918",
   "metadata": {},
   "outputs": [],
   "source": [
    "# Sort a list of integers into positive and negative integers lists."
   ]
  }
 ],
 "metadata": {
  "kernelspec": {
   "display_name": "Python 3 (ipykernel)",
   "language": "python",
   "name": "python3"
  },
  "language_info": {
   "codemirror_mode": {
    "name": "ipython",
    "version": 3
   },
   "file_extension": ".py",
   "mimetype": "text/x-python",
   "name": "python",
   "nbconvert_exporter": "python",
   "pygments_lexer": "ipython3",
   "version": "3.10.8"
  }
 },
 "nbformat": 4,
 "nbformat_minor": 5
}
