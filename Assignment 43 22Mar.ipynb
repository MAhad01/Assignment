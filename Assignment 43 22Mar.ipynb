{
 "cells": [
  {
   "cell_type": "code",
   "execution_count": 1,
   "id": "04145ad4-7558-40bd-ab46-f7de2a3adb41",
   "metadata": {},
   "outputs": [],
   "source": [
    "# Ans 1\n",
    "\n",
    "# If you have collected data on the amount of time students spend studying for an exam and their final exam scores, you can calculate the \n",
    "# Pearson correlation coefficient between these two variables to determine if there is a linear relationship between them. \n",
    "# If there is a positive correlation between these two variables, it means that as the amount of time spent studying increases, so do final exam scores. \n",
    "# If there is a negative correlation between these two variables, it means that as the amount of time spent studying increases, final exam scores decrease."
   ]
  },
  {
   "cell_type": "code",
   "execution_count": 2,
   "id": "a0a9ede8-07b2-43c3-8289-5bb10051e963",
   "metadata": {},
   "outputs": [],
   "source": [
    "# Ans 2\n",
    "\n",
    "# If you have collected data on the amount of sleep individuals get each night and their overall job satisfaction level on a scale of 1 to 10, you can calculate the \n",
    "# Spearman’s rank correlation coefficient between these two variables to determine if there is a monotonic relationship between them. \n",
    "# If there is a positive correlation between these two variables, it means that as the amount of sleep individuals get each night increases, \n",
    "# their overall job satisfaction level also increases. If there is a negative correlation between these two variables, \n",
    "# it means that as the amount of sleep individuals get each night increases, their overall job satisfaction level decreases."
   ]
  },
  {
   "cell_type": "code",
   "execution_count": 3,
   "id": "b52bf7e9-7c78-495b-bb22-aa35ba0f60ef",
   "metadata": {},
   "outputs": [],
   "source": [
    "# Ans 3\n",
    "\n",
    "# If you have collected data on both variables for 50 participants, you can calculate both Pearson correlation coefficient and \n",
    "# Spearman’s rank correlation coefficient to determine if there is a linear or monotonic relationship between them. \n",
    "# If there is a positive correlation between these two variables, it means that as the number of hours of exercise per week increases, BMI decreases. \n",
    "# If there is a negative correlation between these two variables, it means that as the number of hours of exercise per week increases, BMI increases."
   ]
  },
  {
   "cell_type": "code",
   "execution_count": 4,
   "id": "27e3e77e-2087-4530-82b5-0e8304d24980",
   "metadata": {},
   "outputs": [],
   "source": [
    "# Ans 4\n",
    "\n",
    "# To calculate the Pearson correlation coefficient between two variables, you can use the following formula:\n",
    "\n",
    "# r = (nΣxy - ΣxΣy) / sqrt((nΣx^2 - (Σx)2)(nΣy2 - (Σy)^2))\n",
    "\n",
    "# where:\n",
    "\n",
    "# r is the Pearson correlation coefficient\n",
    "# n is the number of observations\n",
    "# Σxy is the sum of the products of the paired deviations\n",
    "# Σx and Σy are the sums of the x and y values, respectively\n",
    "# Σx^2 and Σy^2 are the sums of the squared x and y values, respectively\n",
    "# If you have collected data on both variables from a sample of 50 participants, \n",
    "# you can calculate the Pearson correlation coefficient between these two variables to determine if there is a linear relationship between them."
   ]
  },
  {
   "cell_type": "code",
   "execution_count": null,
   "id": "dd7602fa-8595-4ad3-84ce-0f30b4dcbb23",
   "metadata": {},
   "outputs": [],
   "source": [
    "# Ans 6\n",
    "\n",
    "# To calculate the Pearson correlation coefficient between two variables, you can use the following formula:\n",
    "\n",
    "# r = (nΣxy - ΣxΣy) / sqrt((nΣx^2 - (Σx)2)(nΣy2 - (Σy)^2))\n",
    "\n",
    "# where:\n",
    "\n",
    "# r is the Pearson correlation coefficient\n",
    "# n is the number of observations\n",
    "# Σxy is the sum of the products of the paired deviations\n",
    "# Σx and Σy are the sums of the x and y values, respectively\n",
    "# Σx^2 and Σy^2 are the sums of the squared x and y values, respectively\n",
    "# If you have collected data on both variables from a sample of 30 sales representatives, you can calculate the Pearson correlation coefficient \n",
    "# between these two variables to determine if there is a linear relationship between them."
   ]
  }
 ],
 "metadata": {
  "kernelspec": {
   "display_name": "Python 3 (ipykernel)",
   "language": "python",
   "name": "python3"
  },
  "language_info": {
   "codemirror_mode": {
    "name": "ipython",
    "version": 3
   },
   "file_extension": ".py",
   "mimetype": "text/x-python",
   "name": "python",
   "nbconvert_exporter": "python",
   "pygments_lexer": "ipython3",
   "version": "3.10.8"
  }
 },
 "nbformat": 4,
 "nbformat_minor": 5
}
