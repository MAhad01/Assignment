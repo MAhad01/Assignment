{
 "cells": [
  {
   "cell_type": "code",
   "execution_count": 1,
   "id": "f82d43dc-5f6b-450b-97c4-49ba0be31237",
   "metadata": {},
   "outputs": [],
   "source": [
    "d={}"
   ]
  },
  {
   "cell_type": "code",
   "execution_count": 2,
   "id": "6accb0b7-d022-4f24-8dc6-f417e8831cf3",
   "metadata": {},
   "outputs": [
    {
     "data": {
      "text/plain": [
       "dict"
      ]
     },
     "execution_count": 2,
     "metadata": {},
     "output_type": "execute_result"
    }
   ],
   "source": [
    "type(d)"
   ]
  },
  {
   "cell_type": "code",
   "execution_count": 3,
   "id": "02f24cfc-138b-40ba-81b0-ee2f7a6fd366",
   "metadata": {},
   "outputs": [],
   "source": [
    "d1={'key':\"Ahad\"}"
   ]
  },
  {
   "cell_type": "code",
   "execution_count": 4,
   "id": "e8e4cc23-7bf5-4c63-8995-296a91d26d1e",
   "metadata": {},
   "outputs": [
    {
     "data": {
      "text/plain": [
       "{'key': 'Ahad'}"
      ]
     },
     "execution_count": 4,
     "metadata": {},
     "output_type": "execute_result"
    }
   ],
   "source": [
    "d1"
   ]
  },
  {
   "cell_type": "code",
   "execution_count": 5,
   "id": "5935ff80-55da-45a5-b702-8227bf9c5be8",
   "metadata": {},
   "outputs": [],
   "source": [
    "d2={'name':\"Ahad\", 'email':\"A hahahahahhahahahah\", 'number': 7300691212}"
   ]
  },
  {
   "cell_type": "code",
   "execution_count": 6,
   "id": "c524e885-75b8-4440-bc11-d9890648dba6",
   "metadata": {},
   "outputs": [
    {
     "data": {
      "text/plain": [
       "{'name': 'Ahad', 'email': 'A hahahahahhahahahah', 'number': 7300691212}"
      ]
     },
     "execution_count": 6,
     "metadata": {},
     "output_type": "execute_result"
    }
   ],
   "source": [
    "d2"
   ]
  },
  {
   "cell_type": "code",
   "execution_count": 13,
   "id": "8905973e-0770-498f-bde0-df58035ca0d6",
   "metadata": {},
   "outputs": [],
   "source": [
    "d3={12:\"daha\", '@we' : \"the people\"}"
   ]
  },
  {
   "cell_type": "code",
   "execution_count": 11,
   "id": "4eedee35-76aa-49c6-b6a8-5ba08111d585",
   "metadata": {},
   "outputs": [
    {
     "data": {
      "text/plain": [
       "{12: 'daha'}"
      ]
     },
     "execution_count": 11,
     "metadata": {},
     "output_type": "execute_result"
    }
   ],
   "source": [
    "d3"
   ]
  },
  {
   "cell_type": "code",
   "execution_count": 10,
   "id": "a9799ccd-e298-4133-9549-d2cdf6c74aed",
   "metadata": {},
   "outputs": [
    {
     "data": {
      "text/plain": [
       "{12: 'daha'}"
      ]
     },
     "execution_count": 10,
     "metadata": {},
     "output_type": "execute_result"
    }
   ],
   "source": [
    "d3"
   ]
  },
  {
   "cell_type": "code",
   "execution_count": 15,
   "id": "9f487cd0-580a-498c-93c3-da9ad0f05bd1",
   "metadata": {},
   "outputs": [
    {
     "data": {
      "text/plain": [
       "'daha'"
      ]
     },
     "execution_count": 15,
     "metadata": {},
     "output_type": "execute_result"
    }
   ],
   "source": [
    "d3[12]"
   ]
  },
  {
   "cell_type": "code",
   "execution_count": 19,
   "id": "77b7641d-1f7c-487d-81fd-31415ec230b5",
   "metadata": {},
   "outputs": [],
   "source": [
    "d4={'name':\"Ahad\", 'number':7369, True: 35, 'name':\"h\"}"
   ]
  },
  {
   "cell_type": "code",
   "execution_count": 21,
   "id": "e9d430cd-0d4d-444d-8e18-65fbfa70d2bf",
   "metadata": {},
   "outputs": [
    {
     "data": {
      "text/plain": [
       "'h'"
      ]
     },
     "execution_count": 21,
     "metadata": {},
     "output_type": "execute_result"
    }
   ],
   "source": []
  },
  {
   "cell_type": "code",
   "execution_count": 2,
   "id": "64b6e477-94e5-429b-b4b8-390a3eac84f4",
   "metadata": {},
   "outputs": [],
   "source": [
    "d5={'courses':[\"web\", \"py\", \"DSA\"]}"
   ]
  },
  {
   "cell_type": "code",
   "execution_count": 23,
   "id": "f2f388b2-814b-4600-b39e-453f8cec40f3",
   "metadata": {},
   "outputs": [
    {
     "data": {
      "text/plain": [
       "{'courses': ['web', 'py', 'DSA']}"
      ]
     },
     "execution_count": 23,
     "metadata": {},
     "output_type": "execute_result"
    }
   ],
   "source": [
    "d5"
   ]
  },
  {
   "cell_type": "code",
   "execution_count": 24,
   "id": "ff7d5165-ec56-45f2-8a95-013c10f2c302",
   "metadata": {},
   "outputs": [
    {
     "data": {
      "text/plain": [
       "['web', 'py', 'DSA']"
      ]
     },
     "execution_count": 24,
     "metadata": {},
     "output_type": "execute_result"
    }
   ],
   "source": [
    "d5['courses']"
   ]
  },
  {
   "cell_type": "code",
   "execution_count": 26,
   "id": "96fd4638-08eb-467d-93ee-bf45f0542e28",
   "metadata": {},
   "outputs": [
    {
     "data": {
      "text/plain": [
       "'web'"
      ]
     },
     "execution_count": 26,
     "metadata": {},
     "output_type": "execute_result"
    }
   ],
   "source": [
    "d5['courses'][0]"
   ]
  },
  {
   "cell_type": "code",
   "execution_count": 13,
   "id": "767617db-fe89-4d00-b67a-a13701e2073a",
   "metadata": {},
   "outputs": [
    {
     "name": "stdin",
     "output_type": "stream",
     "text": [
      "enter marks 75\n"
     ]
    },
    {
     "name": "stdout",
     "output_type": "stream",
     "text": [
      "Your will be in A1\n"
     ]
    }
   ],
   "source": [
    "marks=int(input(\"enter marks\"))\n",
    "if marks >= 80:\n",
    "    print(\"you will be in A0\")\n",
    "elif marks >=60 and marks< 80:\n",
    "    print(\"Your will be in A1\")\n",
    "elif marks >=40 and marks < 60:\n",
    "    print(\"you will be in A2\")\n",
    "else :\n",
    "    print(\"you will be in A3\")"
   ]
  },
  {
   "cell_type": "code",
   "execution_count": 15,
   "id": "27c58f5a-7e98-4fdf-bf87-be141c8bac78",
   "metadata": {},
   "outputs": [],
   "source": [
    "l=[1,2,3,4,5,6,7,8,9]"
   ]
  },
  {
   "cell_type": "code",
   "execution_count": 22,
   "id": "d4b32b45-8d88-45c7-bcca-49c80fe84d34",
   "metadata": {},
   "outputs": [
    {
     "name": "stdout",
     "output_type": "stream",
     "text": [
      "2\n",
      "3\n",
      "4\n",
      "5\n",
      "6\n",
      "7\n",
      "8\n",
      "9\n",
      "10\n"
     ]
    }
   ],
   "source": [
    "l1=[]\n",
    "for i in l:\n",
    "    print(i+1)\n",
    "    l1.append(i+1)"
   ]
  },
  {
   "cell_type": "code",
   "execution_count": 23,
   "id": "e406c9b5-b582-4ffc-b857-415d0b66d9a1",
   "metadata": {},
   "outputs": [
    {
     "data": {
      "text/plain": [
       "[2, 3, 4, 5, 6, 7, 8, 9, 10]"
      ]
     },
     "execution_count": 23,
     "metadata": {},
     "output_type": "execute_result"
    }
   ],
   "source": [
    "l1"
   ]
  },
  {
   "cell_type": "code",
   "execution_count": 26,
   "id": "4027a0d5-4f75-44d1-87d9-264063f07dc9",
   "metadata": {},
   "outputs": [],
   "source": [
    "l2=[\"ahad\", \"adeeba\", \"our baby\"]"
   ]
  },
  {
   "cell_type": "code",
   "execution_count": 30,
   "id": "fc13868b-2c78-4b4a-8e61-d380f876c73a",
   "metadata": {},
   "outputs": [
    {
     "name": "stdout",
     "output_type": "stream",
     "text": [
      "ahad\n",
      "adeeba\n",
      "our baby\n"
     ]
    }
   ],
   "source": [
    "l3=[]\n",
    "for i in l2:\n",
    "    print(i)\n",
    "    l3.append(i.upper())"
   ]
  },
  {
   "cell_type": "code",
   "execution_count": 31,
   "id": "6f3aa054-4d39-4ba5-a519-54b603271bdb",
   "metadata": {},
   "outputs": [
    {
     "data": {
      "text/plain": [
       "['AHAD', 'ADEEBA', 'OUR BABY']"
      ]
     },
     "execution_count": 31,
     "metadata": {},
     "output_type": "execute_result"
    }
   ],
   "source": [
    "l3"
   ]
  },
  {
   "cell_type": "code",
   "execution_count": 32,
   "id": "7dee7aa7-08c5-4eb1-bcdf-431f53b4600c",
   "metadata": {},
   "outputs": [],
   "source": [
    "l4=[12,23,3,45,454,4,35,6,\"ahad\", \"adeeba\", \"ahaana\"]"
   ]
  },
  {
   "cell_type": "code",
   "execution_count": 39,
   "id": "30f9db86-0c25-4d9d-8ca3-8e16e235e3cc",
   "metadata": {},
   "outputs": [],
   "source": [
    "lNum=[]\n",
    "lStr=[]\n",
    "for i in l4:\n",
    "    if type(i) == str:\n",
    "        lStr.append(i)\n",
    "    else:\n",
    "        lNum.append(i)"
   ]
  },
  {
   "cell_type": "code",
   "execution_count": 40,
   "id": "e338fe71-ebca-440e-8314-affa4db03884",
   "metadata": {},
   "outputs": [
    {
     "data": {
      "text/plain": [
       "[12, 23, 3, 45, 454, 4, 35, 6]"
      ]
     },
     "execution_count": 40,
     "metadata": {},
     "output_type": "execute_result"
    }
   ],
   "source": [
    "lNum"
   ]
  },
  {
   "cell_type": "code",
   "execution_count": 41,
   "id": "8a5e55d2-7922-46cd-a681-ab61c8c58eea",
   "metadata": {},
   "outputs": [
    {
     "data": {
      "text/plain": [
       "['ahad', 'adeeba', 'ahaana']"
      ]
     },
     "execution_count": 41,
     "metadata": {},
     "output_type": "execute_result"
    }
   ],
   "source": [
    "lStr"
   ]
  },
  {
   "cell_type": "code",
   "execution_count": null,
   "id": "10491872-0b79-4cc5-91f1-792cd62d6e00",
   "metadata": {},
   "outputs": [],
   "source": []
  }
 ],
 "metadata": {
  "kernelspec": {
   "display_name": "Python 3 (ipykernel)",
   "language": "python",
   "name": "python3"
  },
  "language_info": {
   "codemirror_mode": {
    "name": "ipython",
    "version": 3
   },
   "file_extension": ".py",
   "mimetype": "text/x-python",
   "name": "python",
   "nbconvert_exporter": "python",
   "pygments_lexer": "ipython3",
   "version": "3.10.8"
  }
 },
 "nbformat": 4,
 "nbformat_minor": 5
}
