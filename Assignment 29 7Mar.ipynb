{
 "cells": [
  {
   "cell_type": "code",
   "execution_count": 1,
   "id": "e0249484-39a1-4391-b669-a328bd5bbada",
   "metadata": {},
   "outputs": [],
   "source": [
    "#Ans 1\n",
    "# The three measures of central tendency are the mode, median, and mean. The mode is the most frequently occurring value in a dataset.\n",
    "# The median is the middle number in an ordered dataset. The mean is the sum of all values divided by the total number of values."
   ]
  },
  {
   "cell_type": "code",
   "execution_count": 2,
   "id": "afe6fcfa-3428-4c9a-a940-e0fa849782fe",
   "metadata": {},
   "outputs": [],
   "source": [
    "# # Ans 2\n",
    "# The mean is the sum of all values divided by the total number of values. \n",
    "# The median is the middle number in an ordered dataset. \n",
    "# The mode is the most frequently occurring value in a dataset .\n",
    "\n",
    "# The mean is used to measure central tendency when the data is normally distributed and there are no outliers. \n",
    "# The median is used when there are outliers or when the data is not normally distributed. \n",
    "# The mode is used when the data has a high frequency of a particular value."
   ]
  },
  {
   "cell_type": "code",
   "execution_count": 8,
   "id": "b3ceb92f-c916-4320-90c4-3917f3b6ebc0",
   "metadata": {},
   "outputs": [
    {
     "name": "stdout",
     "output_type": "stream",
     "text": [
      "Mean: 177.01875\n",
      "Median: 177.0\n",
      "Mode: 178\n"
     ]
    }
   ],
   "source": [
    "# Ans 3\n",
    "\n",
    "import statistics\n",
    "\n",
    "height_data = [178,177,176,177,178.2,178,175,179,180,175,178.9,176.2,177,172.5,178,176.5]\n",
    "\n",
    "mean = statistics.mean(height_data)\n",
    "median = statistics.median(height_data)\n",
    "mode = statistics.mode(height_data)\n",
    "\n",
    "print(\"Mean:\", mean)\n",
    "print(\"Median:\", median)\n",
    "print(\"Mode:\", mode)\n"
   ]
  },
  {
   "cell_type": "code",
   "execution_count": 9,
   "id": "17d9095b-1e8b-464f-944e-37841d3c8778",
   "metadata": {},
   "outputs": [
    {
     "name": "stdout",
     "output_type": "stream",
     "text": [
      "Standard deviation: 1.7885814036548633\n"
     ]
    }
   ],
   "source": [
    "# Ans 4\n",
    "\n",
    "import numpy as np\n",
    "\n",
    "height_data = [178,177,176,177,178.2,178,175,179,180,175,178.9,176.2,177,172.5,178,176.5]\n",
    "\n",
    "standard_deviation = np.std(height_data)\n",
    "\n",
    "print(\"Standard deviation:\", standard_deviation)\n"
   ]
  },
  {
   "cell_type": "code",
   "execution_count": 10,
   "id": "b0c25037-53e9-4aa6-a3b9-47608e218a37",
   "metadata": {},
   "outputs": [],
   "source": [
    "# Ans 5\n",
    "\n",
    "# Measures of dispersion such as range, variance, and standard deviation are used to describe the spread of a dataset. \n",
    "# The range is the difference between the maximum and minimum values in a dataset. \n",
    "# The variance is the average of the squared differences from the mean.\n",
    "# The standard deviation is the square root of the variance.\n",
    "\n",
    "# For example, let’s say we have a dataset of test scores: 80, 85, 90, 95, and 100. \n",
    "# The range is 20 (100 - 80). \n",
    "# The variance is 50 and the standard deviation is approximately 7.07."
   ]
  },
  {
   "cell_type": "code",
   "execution_count": 11,
   "id": "93aece12-711b-487e-94a1-975c1e56f9e7",
   "metadata": {},
   "outputs": [],
   "source": [
    "# Ans 6\n",
    "\n",
    "# A Venn diagram uses simple closed curves drawn on a plane to represent sets. \n",
    "# These curves are usually circles or ellipses. \n",
    "# The diagrams are used to teach elementary set theory and to illustrate simple set relationships in probability, logic, statistics, linguistics, and computer science."
   ]
  },
  {
   "cell_type": "code",
   "execution_count": 12,
   "id": "20155757-0ed7-427f-9b63-970c8fb31a3f",
   "metadata": {},
   "outputs": [],
   "source": [
    "# Ans 7\n",
    "\n",
    "# A intersection B = {2,6}\n",
    "# A ⋃ B = {0, 2, 3, 4, 5, 6, 7, 8, 10}"
   ]
  },
  {
   "cell_type": "code",
   "execution_count": 14,
   "id": "f8ace8a0-20c6-4468-bf23-7a761dbb6efa",
   "metadata": {},
   "outputs": [],
   "source": [
    "# Ans 8\n",
    "\n",
    "# Skewness is a measure of the asymmetry of a probability distribution. \n",
    "# A distribution is said to be skewed if it is not symmetric. Skewness can be positive, negative, or zero. \n",
    "# A positive skew indicates that the tail on the right side of the distribution is longer or fatter than the left side.\n",
    "# A negative skew indicates that the tail on the left side of the distribution is longer or fatter than the right side.\n",
    "\n",
    "# Skewness can have an impact on data analysis because it can affect the mean and standard deviation of a dataset.\n",
    "# If a dataset is skewed, then the mean will be pulled in the direction of the skewness. \n",
    "# The standard deviation will also be affected because it is based on the mean."
   ]
  },
  {
   "cell_type": "code",
   "execution_count": null,
   "id": "cf259e56-940e-4cfd-83ab-d24afb91d776",
   "metadata": {},
   "outputs": [],
   "source": [
    "# Ans 9\n",
    "\n",
    "#If a data is right skewed, then the median will be less than the mean."
   ]
  },
  {
   "cell_type": "code",
   "execution_count": 16,
   "id": "ced4ed53-b6de-42e8-bfd9-2502ae79b38f",
   "metadata": {},
   "outputs": [],
   "source": [
    "# Ans 10\n",
    "\n",
    "# Covariance and correlation are two measures of the relationship between two variables.\n",
    "\n",
    "# Covariance is a measure of how much two variables change together. \n",
    "# It is calculated by taking the product of the deviations of each variable from its mean and then averaging those products. \n",
    "# Covariance can be positive or negative. \n",
    "# A positive covariance indicates that the two variables tend to increase or decrease together, \n",
    "# while a negative covariance indicates that one variable tends to increase when the other decreases.\n",
    "\n",
    "# Correlation is a standardized measure of the relationship between two variables. \n",
    "# It is calculated by dividing the covariance by the product of the standard deviations of the two variables.\n",
    "# Correlation can range from -1 to 1. A correlation of 1 indicates a perfect positive relationship, a correlation of -1 indicates a perfect negative relationship, \n",
    "# and a correlation of 0 indicates no relationship."
   ]
  },
  {
   "cell_type": "code",
   "execution_count": null,
   "id": "db4c5e45-8753-4ce3-843c-5e1d221e3a1e",
   "metadata": {},
   "outputs": [],
   "source": [
    "# Ans 11\n",
    "\n",
    "# The formula for calculating the sample mean is:\n",
    "x̄ = (Σ xi) / n\n",
    "\n",
    "# where x̄ is the sample mean, Σ xi is the sum of all the values in the sample, and n is the sample size.\n",
    "\n",
    "# For example, let’s say we have a dataset of test scores: 80, 85, 90, 95, and 100. The sample mean is calculated as follows:\n",
    "x̄ = (80 + 85 + 90 + 95 + 100) / 5\n",
    "x̄ = 450 / 5\n",
    "x̄ = 90"
   ]
  },
  {
   "cell_type": "code",
   "execution_count": 17,
   "id": "e3741d9f-b65a-4b36-b81e-502a81461315",
   "metadata": {},
   "outputs": [],
   "source": [
    "# Ans 12\n",
    "\n",
    "# For a normal distribution data, the mean, median, and mode are equal."
   ]
  },
  {
   "cell_type": "code",
   "execution_count": 18,
   "id": "02e6936d-8d77-4859-9fc6-00d8069d2c92",
   "metadata": {},
   "outputs": [],
   "source": [
    "# Ans 13\n",
    "\n",
    "# Covariance measures the relationship between two variables, while correlation measures the strength of the relationship between two variables."
   ]
  },
  {
   "cell_type": "code",
   "execution_count": null,
   "id": "394aa72f-567d-4cec-a6c4-6f9e367c11cd",
   "metadata": {},
   "outputs": [],
   "source": [
    "# Ans 14\n",
    "\n",
    "# Outliers can have a significant impact on measures of central tendency and dispersion. \n",
    "# Outliers can affect the mean and standard deviation of a dataset. \n",
    "# The mean is sensitive to outliers because it takes into account all values in the dataset. \n",
    "# The standard deviation is also affected by outliers because it is based on the mean.\n",
    "\n",
    "# For example, let’s say we have a dataset of test scores: 80, 85, 90, 95, and 100. \n",
    "# If we add an outlier of 50 to the dataset, the mean will decrease significantly from 90 to 80. \n",
    "# The standard deviation will also increase significantly from approximately 7.07 to approximately 20.49."
   ]
  }
 ],
 "metadata": {
  "kernelspec": {
   "display_name": "Python 3 (ipykernel)",
   "language": "python",
   "name": "python3"
  },
  "language_info": {
   "codemirror_mode": {
    "name": "ipython",
    "version": 3
   },
   "file_extension": ".py",
   "mimetype": "text/x-python",
   "name": "python",
   "nbconvert_exporter": "python",
   "pygments_lexer": "ipython3",
   "version": "3.10.8"
  }
 },
 "nbformat": 4,
 "nbformat_minor": 5
}
