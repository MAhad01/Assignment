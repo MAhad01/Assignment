{
 "cells": [
  {
   "cell_type": "code",
   "execution_count": 1,
   "id": "d525839f-7558-4325-9a18-aa2fbca81551",
   "metadata": {},
   "outputs": [],
   "source": [
    "# Ans 1\n",
    "\n",
    "# Ridge regression is a technique used in regression analysis to prevent overfitting by adding a penalty term to the cost function. \n",
    "# The penalty term is the square of the magnitude of the coefficients multiplied by a constant lambda.\n",
    "# Ridge regression shrinks the coefficients of less important features towards zero but does not set them exactly to zero.\n",
    "\n",
    "# Ordinary least squares (OLS) regression is a technique used in regression analysis to find the line of best fit through the data by minimizing the\n",
    "# sum of the squared errors between the predicted and actual values. \n",
    "# OLS regression does not add any penalty term to the cost function. "
   ]
  },
  {
   "cell_type": "code",
   "execution_count": 3,
   "id": "456329d3-81dd-4b4e-af5b-04670bf663a3",
   "metadata": {},
   "outputs": [],
   "source": [
    "# Ans 2\n",
    "\n",
    "# The assumptions of Ridge regression are the same as those of ordinary least squares (OLS) regression. They include linearity, constant variance, and independence.\n",
    "\n",
    "# Linearity means that the relationship between the independent variables and the dependent variable is linear. \n",
    "# Constant variance means that the variance of the errors is constant across all levels of the independent variables. \n",
    "# Independence means that the errors are independent of each other."
   ]
  },
  {
   "cell_type": "code",
   "execution_count": 4,
   "id": "d6370e9f-5604-4b69-bfdb-631da9c28aa6",
   "metadata": {},
   "outputs": [],
   "source": [
    "# Ans 3\n",
    "\n",
    "# The value of the tuning parameter (lambda) in Ridge Regression is typically chosen using cross-validation. \n",
    "# The goal is to choose the value of lambda that minimizes the prediction error on new data."
   ]
  },
  {
   "cell_type": "code",
   "execution_count": 5,
   "id": "3e624136-2b33-442e-ab36-90286bce4304",
   "metadata": {},
   "outputs": [],
   "source": [
    "# Ans 4\n",
    "\n",
    "# Ridge Regression can be used for feature selection by shrinking the coefficients of less important features towards zero. \n",
    "# The value of the tuning parameter (lambda) in Ridge Regression is typically chosen using cross-validation."
   ]
  },
  {
   "cell_type": "code",
   "execution_count": 6,
   "id": "3b3393cc-dbae-42b8-a56a-a2e978e22fab",
   "metadata": {},
   "outputs": [],
   "source": [
    "# Ans 5\n",
    "\n",
    "# Ridge Regression is designed to handle multicollinearity by shrinking the coefficients of less important features towards zero. \n",
    "# This helps to reduce the variance of the estimates and improve the stability of the model."
   ]
  },
  {
   "cell_type": "code",
   "execution_count": 7,
   "id": "d7366770-0244-4bfb-8b52-0ba7a2bf5edb",
   "metadata": {},
   "outputs": [],
   "source": [
    "# Ans 6\n",
    "\n",
    "# Ridge Regression can handle both categorical and continuous independent variables. The categorical variables are typically encoded as indicator variables."
   ]
  },
  {
   "cell_type": "code",
   "execution_count": 9,
   "id": "def1bf5a-3720-4228-90a0-9cc35d1969d2",
   "metadata": {},
   "outputs": [],
   "source": [
    "# Ans 7\n",
    "\n",
    "# The coefficients of Ridge Regression can be interpreted in the same way as those of ordinary least squares (OLS) regression. \n",
    "# The difference is that the coefficients of Ridge Regression are biased towards zero."
   ]
  },
  {
   "cell_type": "code",
   "execution_count": null,
   "id": "c3b9b154-cbb0-4a3f-ab74-99109180b969",
   "metadata": {},
   "outputs": [],
   "source": [
    "# Ans 8\n",
    "\n",
    "# Yes, Ridge Regression can be used for time-series data analysis. The independent variables can be both categorical and continuous. \n",
    "# The coefficients of Ridge Regression can be interpreted in the same way as those of ordinary least squares (OLS) regression."
   ]
  }
 ],
 "metadata": {
  "kernelspec": {
   "display_name": "Python 3 (ipykernel)",
   "language": "python",
   "name": "python3"
  },
  "language_info": {
   "codemirror_mode": {
    "name": "ipython",
    "version": 3
   },
   "file_extension": ".py",
   "mimetype": "text/x-python",
   "name": "python",
   "nbconvert_exporter": "python",
   "pygments_lexer": "ipython3",
   "version": "3.10.8"
  }
 },
 "nbformat": 4,
 "nbformat_minor": 5
}
