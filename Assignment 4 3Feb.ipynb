{
 "cells": [
  {
   "cell_type": "code",
   "execution_count": 1,
   "id": "69e903e7-1faf-4abd-a6e4-44a816a056cf",
   "metadata": {},
   "outputs": [],
   "source": [
    "# Answers"
   ]
  },
  {
   "cell_type": "code",
   "execution_count": 5,
   "id": "a7aa4412-5dd8-4e9b-bae5-cf654897ec4e",
   "metadata": {},
   "outputs": [
    {
     "name": "stdout",
     "output_type": "stream",
     "text": [
      "1\n",
      "3\n",
      "5\n",
      "7\n",
      "9\n",
      "11\n",
      "13\n",
      "15\n",
      "17\n",
      "19\n",
      "21\n",
      "23\n",
      "25\n"
     ]
    }
   ],
   "source": [
    "# Ans 1\n",
    "# the def keyword is used to create a function\n",
    "\n",
    "def return_odd():\n",
    "    for i in range(26):\n",
    "        if i%2 !=0:\n",
    "            print(i)\n",
    "return_odd()"
   ]
  },
  {
   "cell_type": "code",
   "execution_count": 7,
   "id": "acb0ebde-40c6-4dbc-914d-e45f8d82e00f",
   "metadata": {},
   "outputs": [
    {
     "name": "stdout",
     "output_type": "stream",
     "text": [
      "Sum: 17\n",
      "\n",
      "Data type of argument: <class 'dict'>\n",
      "Firstname is John\n",
      "Lastname is Cena\n",
      "Email is ucantseeme@nomail.com\n",
      "Country is USA\n",
      "Age is 50\n",
      "Phone is 9876543210\n"
     ]
    }
   ],
   "source": [
    "# Ans 2\n",
    "# When we are confused about the amount of arguments to supply in the functions, we utilize *args and **kwargs as parameters.\n",
    "# *args in Python enable us to send a variable number of non-keyword arguments to functions.\n",
    "# To provide variable length inputs, we need use an asterisk * before the parameter name in the function.\n",
    "# The parameters are supplied as a tuple, and these arguments form a tuple within the function with the same name as the parameter, except the asterisk *.\n",
    "\n",
    "# Example of *args\n",
    "def add(*num):\n",
    "    sum = 0\n",
    "    for n in num:\n",
    "        sum = sum + n\n",
    "\n",
    "    print(\"Sum:\",sum)\n",
    "\n",
    "add(1,2,3,5,6)\n",
    "\n",
    "#  *args  cannot be used to pass keyword argument.\n",
    "# To indicate this type of argument, we use the double asterisk ** before the parameter name in the function. \n",
    "# The parameters are supplied as a dictionary, and these arguments create a dictionary within the function with the same name as the parameter except for the double asterisk **.\n",
    "\n",
    "# Example of **kwargs\n",
    "def intro(**data):\n",
    "    print(\"\\nData type of argument:\",type(data))\n",
    "\n",
    "    for key, value in data.items():\n",
    "        print(\"{} is {}\".format(key,value))\n",
    "\n",
    "intro(Firstname=\"John\", Lastname=\"Cena\", Email=\"ucantseeme@nomail.com\", Country=\"USA\", Age=50, Phone=9876543210)"
   ]
  },
  {
   "cell_type": "code",
   "execution_count": 9,
   "id": "6fcdedfd-da4f-49af-b05c-e9cbe9a2d693",
   "metadata": {},
   "outputs": [
    {
     "name": "stdout",
     "output_type": "stream",
     "text": [
      "2\n",
      "4\n",
      "6\n",
      "8\n",
      "10\n"
     ]
    }
   ],
   "source": [
    "# Ans 3\n",
    "# An iterator is an object that contains a countable number of values.\n",
    "# The iter() method is called for the initialization of an iterator. This returns an iterator object\n",
    "# The next() method returns the next value for the iterable.\n",
    "l1=[2, 4, 6, 8, 10, 12, 14, 16, 18, 20]\n",
    "num_iter=iter(l1)\n",
    "print(next(num_iter))\n",
    "print(next(num_iter))\n",
    "print(next(num_iter))\n",
    "print(next(num_iter))\n",
    "print(next(num_iter))"
   ]
  },
  {
   "cell_type": "code",
   "execution_count": 10,
   "id": "f8877651-c1be-4cc9-baba-e54cbbf8bca5",
   "metadata": {},
   "outputs": [
    {
     "name": "stdout",
     "output_type": "stream",
     "text": [
      "0\n",
      "1\n",
      "4\n",
      "9\n",
      "16\n",
      "25\n",
      "36\n",
      "49\n",
      "64\n",
      "81\n"
     ]
    }
   ],
   "source": [
    "# Ans 4\n",
    "# Python Generator functions allow you to specify a function that works like an iterator, allowing programmers to quickly, easily, and cleanly create an iterator.\n",
    "# yield keyword is used to create a generator function.\n",
    "\n",
    "# create the generator object\n",
    "squares_generator = (i * i for i in range(10))\n",
    "\n",
    "# iterate over the generator and print the values\n",
    "for i in squares_generator:\n",
    "    print(i)"
   ]
  },
  {
   "cell_type": "code",
   "execution_count": 1,
   "id": "181f68aa-4efe-48bd-ae85-ada3c2b0086b",
   "metadata": {},
   "outputs": [
    {
     "name": "stdout",
     "output_type": "stream",
     "text": [
      "2\n",
      "3\n",
      "5\n",
      "7\n",
      "11\n",
      "13\n",
      "17\n",
      "19\n",
      "23\n",
      "29\n",
      "31\n",
      "37\n",
      "41\n",
      "43\n",
      "47\n",
      "53\n",
      "59\n",
      "61\n",
      "67\n",
      "71\n"
     ]
    }
   ],
   "source": [
    "# Ans 5\n",
    "def prime_numbers():\n",
    "    num = 2\n",
    "    while True:\n",
    "        for i in range(2, num):\n",
    "            if num % i == 0:\n",
    "                break\n",
    "        else:\n",
    "            yield num\n",
    "        num += 1\n",
    "\n",
    "prime = prime_numbers()\n",
    "for i in range(20):\n",
    "    print(next(prime))"
   ]
  },
  {
   "cell_type": "code",
   "execution_count": 5,
   "id": "7fef6d2c-c766-48a6-bde8-2fc58515408e",
   "metadata": {},
   "outputs": [
    {
     "name": "stdout",
     "output_type": "stream",
     "text": [
      "0\n",
      "1\n",
      "1\n",
      "2\n",
      "3\n",
      "5\n",
      "8\n",
      "13\n",
      "21\n",
      "34\n"
     ]
    }
   ],
   "source": [
    "# Ans 6\n",
    "a=0\n",
    "b=1\n",
    "print(a)\n",
    "print(b)\n",
    "n=8\n",
    "while(n):\n",
    "    nextTerm=a+b\n",
    "    print( nextTerm)\n",
    "    a=b\n",
    "    b=nextTerm\n",
    "    n=n-1\n"
   ]
  },
  {
   "cell_type": "code",
   "execution_count": 6,
   "id": "db3cd177-4130-42dc-8b3a-c5baa63733a4",
   "metadata": {},
   "outputs": [
    {
     "name": "stdout",
     "output_type": "stream",
     "text": [
      "['p', 'w', 's', 'k', 'i', 'l', 'l', 's']\n"
     ]
    }
   ],
   "source": [
    "# Ans 7\n",
    "string = 'pwskills'\n",
    " \n",
    "lst = [x for x in string]\n",
    " \n",
    "print(lst)"
   ]
  },
  {
   "cell_type": "code",
   "execution_count": 19,
   "id": "ad179275-8974-4c92-89b1-6f432a188904",
   "metadata": {},
   "outputs": [
    {
     "name": "stdout",
     "output_type": "stream",
     "text": [
      "True\n"
     ]
    }
   ],
   "source": [
    "# Ans 8\n",
    "n=121\n",
    "temp=n\n",
    "rev=0\n",
    "\n",
    "while temp!=0:\n",
    "    last=temp%10\n",
    "    rev=rev*10+last\n",
    "    \n",
    "    temp//=10\n",
    "    \n",
    "if n==rev:\n",
    "    print(\"True\")\n",
    "else:\n",
    "    print(\"False\")"
   ]
  },
  {
   "cell_type": "code",
   "execution_count": null,
   "id": "b48c9d9e-b1bc-4342-81c0-c3ca43164886",
   "metadata": {},
   "outputs": [],
   "source": [
    "# Ans 9\n",
    "odd_numbers = [num for num in range(1, 101) if num % 2 != 0]\n",
    "print(odd_numbers)\n"
   ]
  }
 ],
 "metadata": {
  "kernelspec": {
   "display_name": "Python 3 (ipykernel)",
   "language": "python",
   "name": "python3"
  },
  "language_info": {
   "codemirror_mode": {
    "name": "ipython",
    "version": 3
   },
   "file_extension": ".py",
   "mimetype": "text/x-python",
   "name": "python",
   "nbconvert_exporter": "python",
   "pygments_lexer": "ipython3",
   "version": "3.10.8"
  }
 },
 "nbformat": 4,
 "nbformat_minor": 5
}
