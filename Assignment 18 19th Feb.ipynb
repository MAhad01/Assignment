{
 "cells": [
  {
   "cell_type": "code",
   "execution_count": 1,
   "id": "de381469-f532-4f50-8855-54fbaff9782c",
   "metadata": {},
   "outputs": [],
   "source": [
    "# Ans 1\n",
    "# Flask is a micro web framework for Python that is designed to be lightweight, flexible, and easy to use.\n",
    "\n",
    "# Here are some of the advantages of using Flask:\n",
    "# Minimalistic: Flask is minimalistic and requires the least amount of coding as compared to other frameworks. This makes it easy to learn and use.\n",
    "# Versatile: Flask is versatile and can be used for a wide range of applications, from simple web applications to complex enterprise-level applications.\n",
    "# Affordable development: Flask is open-source and free of charge, which makes it an affordable option for developers.\n",
    "# Easy-to-find developers offshore: Flask is widely used by developers worldwide, so it’s easy to find developers who are experienced with the framework.\n",
    "# Security: Flask provides built-in security features such as secure cookies and support for SSL/TLS encryption"
   ]
  },
  {
   "attachments": {},
   "cell_type": "markdown",
   "id": "9dd47d03-bb22-4ec9-9438-9fffb99390d7",
   "metadata": {},
   "source": [
    "# Ans 2\n",
    "![](ans2.png)"
   ]
  },
  {
   "attachments": {},
   "cell_type": "markdown",
   "id": "9d8ccff2",
   "metadata": {},
   "source": []
  },
  {
   "cell_type": "code",
   "execution_count": 2,
   "id": "f0fb97e1-2bfa-48da-8e33-f321de52bb8b",
   "metadata": {},
   "outputs": [],
   "source": [
    "# Ans 3\n",
    "\n",
    "# In Flask, app routing is the process of mapping URLs to specific functions that will handle the logic for that URL.\n",
    "# When you create a Flask application, you define routes that map to specific functions. These routes are defined using the @app.route() decorator. \n",
    "# The decorator tells Flask what URL should trigger the function."
   ]
  },
  {
   "cell_type": "code",
   "execution_count": null,
   "id": "1a303ae2-c1c4-42bc-bb4d-4c35af1528c8",
   "metadata": {},
   "outputs": [],
   "source": [
    "# Ans 4\n",
    "![](ans5a.png)\n",
    "![](ans5b.png)"
   ]
  },
  {
   "attachments": {},
   "cell_type": "markdown",
   "id": "da3f7e19",
   "metadata": {},
   "source": [
    "# Ans 4\n",
    "![](ans5a.png)\n",
    "![](ans5b.png)"
   ]
  },
  {
   "attachments": {},
   "cell_type": "markdown",
   "id": "7bd9eed7",
   "metadata": {},
   "source": []
  },
  {
   "cell_type": "code",
   "execution_count": null,
   "id": "533b7a5c-20fb-42e2-95bd-f972f93504a2",
   "metadata": {},
   "outputs": [],
   "source": [
    "# Ans 5\n",
    "\n",
    "# In Flask, the url_for() function is used for URL building. \n",
    "# Eg:\n",
    "from flask import Flask, url_for\n",
    "\n",
    "app = Flask(__name__)\n",
    "\n",
    "@app.route('/')\n",
    "def home():\n",
    "    return 'This is the home page'\n",
    "\n",
    "@app.route('/about')\n",
    "def about():\n",
    "    return 'This is the about page'\n",
    "\n",
    "@app.route('/contact')\n",
    "def contact():\n",
    "    return 'This is the contact page'\n",
    "\n",
    "with app.test_request_context():\n",
    "    print(url_for('home'))\n",
    "    print(url_for('about'))\n",
    "    print(url_for('contact'))"
   ]
  }
 ],
 "metadata": {
  "kernelspec": {
   "display_name": "Python 3 (ipykernel)",
   "language": "python",
   "name": "python3"
  },
  "language_info": {
   "codemirror_mode": {
    "name": "ipython",
    "version": 3
   },
   "file_extension": ".py",
   "mimetype": "text/x-python",
   "name": "python",
   "nbconvert_exporter": "python",
   "pygments_lexer": "ipython3",
   "version": "3.10.8"
  }
 },
 "nbformat": 4,
 "nbformat_minor": 5
}
