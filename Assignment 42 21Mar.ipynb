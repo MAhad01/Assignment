{
 "cells": [
  {
   "cell_type": "code",
   "execution_count": 1,
   "id": "ef35394e-e74a-4381-b3db-91c54cf9d0c5",
   "metadata": {},
   "outputs": [],
   "source": [
    "# Ans 1\n",
    "\n",
    "# Ordinal Encoding and Label Encoding are both techniques used for encoding categorical variables. However, they are used in different scenarios.\n",
    "\n",
    "# Label Encoding is used when the categorical variable is ordinal in nature. For example, if we have a variable called “education” with categories “High School”, “Bachelors”, “Masters”, and “PhD”, we can assign them numerical values 1, 2, 3, and 4 respectively. This is because there is an inherent order to the categories.\n",
    "\n",
    "# On the other hand, Ordinal Encoding is used when the categorical variable is nominal in nature. For example, if we have a variable called “color” with categories “Red”, “Green”, and “Blue”, we can assign them numerical values 1, 2, and 3 respectively. However, there is no inherent order to the categories.\n",
    "\n",
    "# In summary, Label Encoding is used when there is an inherent order to the categories while Ordinal Encoding is used when there is no inherent order to the categories."
   ]
  },
  {
   "cell_type": "code",
   "execution_count": 2,
   "id": "9f2600e6-c1fd-4e65-b04b-b7f1c5b59943",
   "metadata": {},
   "outputs": [],
   "source": [
    "# Ans 2\n",
    "\n",
    "# Target Guided Ordinal Encoding is a technique used to encode categorical variables for machine learning models. \n",
    "# This encoding technique is particularly useful when the target variable is ordinal, meaning that it has a natural order, such as low, medium, and high.\n",
    "\n",
    "# In this technique, we will transform our categorical variable by comparing it to the target or output variable. \n",
    "# Here are the steps:\n",
    "\n",
    "# Choose a categorical variable.\n",
    "# Take the aggregated mean of the categorical variable and apply it to the target variable.\n",
    "# Sort the categories based on their mean value.\n",
    "# Assign ordinal values to each category based on their sorted order.\n",
    "# Here’s an example: Let’s say we have a dataset of employees with columns “City”, “Salary”, and “Experience”. \n",
    "# We want to predict the salary of an employee based on their city and experience. \n",
    "# We can use Target Guided Ordinal Encoding to encode the “City” column as follows:\n",
    "\n",
    "# Choose the “City” column.\n",
    "# Calculate the mean salary for each city.\n",
    "# Sort the cities based on their mean salary.\n",
    "# Assign ordinal values to each city based on their sorted order."
   ]
  },
  {
   "cell_type": "code",
   "execution_count": 3,
   "id": "29e80855-4105-45a3-8966-bd5393afa3ea",
   "metadata": {},
   "outputs": [],
   "source": [
    "# Ans 3\n",
    "\n",
    "# Covariance is a measure of the joint variability of two random variables. It is used to describe how two variables change together. \n",
    "# If the covariance between two variables is positive, it means that they tend to increase or decrease together. \n",
    "# If the covariance is negative, it means that they tend to move in opposite directions. If the covariance is zero, it means that there is no relationship between the two variables.\n",
    "\n",
    "# Covariance is important in statistical analysis because it helps us understand the relationship between two variables. \n",
    "# It is often used in finance to measure the risk of a portfolio of assets.\n",
    "# A portfolio with assets that have high positive covariance will be more risky than a portfolio with assets that have low or negative covariance."
   ]
  },
  {
   "cell_type": "code",
   "execution_count": 6,
   "id": "2aad65fa-36eb-4ee3-aae4-656be016ba1a",
   "metadata": {},
   "outputs": [
    {
     "name": "stdout",
     "output_type": "stream",
     "text": [
      "   Color  Size  Material\n",
      "0      2     2         2\n",
      "1      1     1         0\n",
      "2      0     0         1\n",
      "3      1     1         1\n",
      "4      2     2         0\n"
     ]
    }
   ],
   "source": [
    "# Ans 4\n",
    "\n",
    "from sklearn.preprocessing import LabelEncoder\n",
    "import pandas as pd\n",
    "\n",
    "data = {'Color': ['red', 'green', 'blue', 'green', 'red'],\n",
    "        'Size': ['small', 'medium', 'large', 'medium', 'small'],\n",
    "        'Material': ['wood', 'metal', 'plastic', 'plastic', 'metal']}\n",
    "\n",
    "\n",
    "df = pd.DataFrame(data)\n",
    "\n",
    "\n",
    "le = LabelEncoder()\n",
    "\n",
    "\n",
    "df['Color'] = le.fit_transform(df['Color'])\n",
    "df['Size'] = le.fit_transform(df['Size'])\n",
    "df['Material'] = le.fit_transform(df['Material'])\n",
    "\n",
    "\n",
    "print(df)\n",
    "\n",
    "# The output shows that each of the categorical variables has been encoded with integer values. \n",
    "# For example, the Color variable has been encoded as follows: red=2, green=1, blue=0. The Size variable has been encoded as follows: small=2, medium=0, large=1. \n",
    "# And the Material variable has been encoded as follows: wood=2, metal=1, plastic=0."
   ]
  },
  {
   "cell_type": "code",
   "execution_count": 7,
   "id": "d62a5a3a-39ba-4085-8e0f-cfa79c2ac68b",
   "metadata": {},
   "outputs": [
    {
     "name": "stdout",
     "output_type": "stream",
     "text": [
      "[[2.50000000e+01 5.00000000e+04 1.50000000e+01]\n",
      " [5.00000000e+04 1.00000000e+08 3.00000000e+04]\n",
      " [1.50000000e+01 3.00000000e+04 9.33333333e+00]]\n"
     ]
    }
   ],
   "source": [
    "# Ans 5\n",
    "\n",
    "import numpy as np\n",
    "\n",
    "# Create a sample dataset\n",
    "data = np.array([[25, 50000, 12],\n",
    "                 [30, 60000, 16],\n",
    "                 [35, 70000, 18]])\n",
    "\n",
    "# Calculate the covariance matrix\n",
    "cov_matrix = np.cov(data.T)\n",
    "\n",
    "# Print the covariance matrix\n",
    "print(cov_matrix)"
   ]
  },
  {
   "cell_type": "code",
   "execution_count": 8,
   "id": "9a5814d9-d39f-43b1-8cf2-6d43907b5cf6",
   "metadata": {},
   "outputs": [],
   "source": [
    "# Ans 6\n",
    "\n",
    "# For the “Gender” variable, I would use binary encoding because there are only two categories (Male and Female). \n",
    "# Binary encoding is a simple and efficient way to encode binary variables.\n",
    "\n",
    "# For the “Education Level” variable, I would use ordinal encoding because the categories have a natural order (High School < Bachelor’s < Master’s < PhD). \n",
    "# Ordinal encoding preserves the order of the categories and is therefore appropriate for ordinal variables.\n",
    "\n",
    "# For the “Employment Status” variable, I would use one-hot encoding because there are more than two categories and they do not have a natural order. \n",
    "# One-hot encoding creates a binary variable for each category and is therefore appropriate for nominal variables.\n"
   ]
  },
  {
   "cell_type": "code",
   "execution_count": null,
   "id": "f95d4ff6-9308-42d1-9cfb-e6696b5a4aa9",
   "metadata": {},
   "outputs": [],
   "source": [
    "import numpy as np\n",
    "from sklearn.preprocessing import LabelEncoder\n",
    "\n",
    "# Create a sample dataset\n",
    "data = np.array([[25, 60, 'Sunny', 'North'],\n",
    "                 [30, 70, 'Cloudy', 'South'],\n",
    "                 [35, 80, 'Rainy', 'East']])\n",
    "\n",
    "# Extract the continuous variables\n",
    "continuous_data = data[:, :2]\n",
    "\n",
    "# Encode categorical variables\n",
    "label_encoder = LabelEncoder()\n",
    "encoded_weather = label_encoder.fit_transform(data[:, 2])  # 'Weather' column\n",
    "encoded_location = label_encoder.fit_transform(data[:, 3])  # 'Location' column\n",
    "\n",
    "# Combine the encoded variables\n",
    "encoded_data = np.column_stack((continuous_data, encoded_weather, encoded_location))\n",
    "\n",
    "# Calculate the covariance matrix\n",
    "cov_matrix = np.cov(encoded_data.T)\n",
    "\n",
    "# Print the covariance matrix\n",
    "print(cov_matrix)\n",
    " \n",
    "    \n",
    "    \n",
    "##  Interpreting the results depends on your specific use case and goals. In general, a positive covariance indicates that two variables tend to move together \n",
    "# (i.e., when one variable increases or decreases, the other tends to do the same), while a negative covariance indicates that two variables tend to move \n",
    "# in opposite directions (i.e., when one variable increases or decreases, the other tends to do the opposite). \n",
    "# A covariance of zero indicates that there is no relationship between two variables."
   ]
  }
 ],
 "metadata": {
  "kernelspec": {
   "display_name": "Python 3 (ipykernel)",
   "language": "python",
   "name": "python3"
  },
  "language_info": {
   "codemirror_mode": {
    "name": "ipython",
    "version": 3
   },
   "file_extension": ".py",
   "mimetype": "text/x-python",
   "name": "python",
   "nbconvert_exporter": "python",
   "pygments_lexer": "ipython3",
   "version": "3.10.8"
  }
 },
 "nbformat": 4,
 "nbformat_minor": 5
}
