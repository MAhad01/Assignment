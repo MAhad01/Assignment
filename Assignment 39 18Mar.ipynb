{
 "cells": [
  {
   "cell_type": "code",
   "execution_count": 1,
   "id": "1169a55f-fda3-461d-ba06-4767c72f863c",
   "metadata": {},
   "outputs": [],
   "source": [
    "# Ans 1\n",
    "\n",
    "# The filter method in feature selection is a process that selects a subset of features from the original features based on their relationship to the target variable. \n",
    "# It measures the “relevance” of the features with the output via statistical tests. The filter method is generally used while doing the pre-processing step.\n",
    "# These methods select features from the dataset irrespective of the use of any machine learning algorithm. \n",
    "# In terms of computation, they are very fast and inexpensive and are very good for removing duplicated, correlated, redundant features but these methods do not remove multicollinearity."
   ]
  },
  {
   "cell_type": "code",
   "execution_count": 2,
   "id": "f76db0af-7a1d-44af-9e84-d41aa28794ee",
   "metadata": {},
   "outputs": [],
   "source": [
    "# Ans 2\n",
    "\n",
    "# The wrapper method for feature selection differs from the filter method in that it evaluates subsets of features based on their ability to improve model performance. \n",
    "# The wrapper method is computationally expensive and can be prone to overfitting, but it considers the interactions between features."
   ]
  },
  {
   "cell_type": "code",
   "execution_count": 3,
   "id": "3bb3ca6c-c0bb-49df-a20c-a97818e53897",
   "metadata": {},
   "outputs": [],
   "source": [
    "# Ans 3\n",
    "\n",
    "# Some common techniques used in Embedded feature selection methods include Lasso regression, Ridge regression, and Elastic Net."
   ]
  },
  {
   "cell_type": "code",
   "execution_count": 4,
   "id": "f0c683a5-41a2-45f7-9ca9-9826fbc54864",
   "metadata": {},
   "outputs": [],
   "source": [
    "# Ans 4\n",
    "\n",
    "# Some drawbacks of using the Filter method for feature selection include that it does not consider the interactions between features and that it is not based on a statistical metric."
   ]
  },
  {
   "cell_type": "code",
   "execution_count": 5,
   "id": "91b4bea4-9256-4f15-a1c8-a736f9a2730c",
   "metadata": {},
   "outputs": [],
   "source": [
    "# Ans 5\n",
    "\n",
    "# The Filter method is generally used while doing the pre-processing step and is very fast and inexpensive. \n",
    "# It is very good for removing duplicated, correlated, redundant features but does not remove multicollinearity. \n",
    "# Therefore, the Filter method is preferred over the Wrapper method when the dataset has a large number of features and computational efficiency is a concern."
   ]
  },
  {
   "cell_type": "code",
   "execution_count": 6,
   "id": "203be4b5-6011-415e-a8b5-5e921739ae25",
   "metadata": {},
   "outputs": [],
   "source": [
    "# Ans 6\n",
    "\n",
    "# To choose the most pertinent attributes for the model using the Filter Method, you would select features based on their correlation with the target variable. \n",
    "# You would measure the “relevance” of the features with the output via statistical tests. The filter method is generally used while doing the pre-processing step. \n",
    "# These methods select features from the dataset irrespective of the use of any machine learning algorithm. \n",
    "# In terms of computation, they are very fast and inexpensive and are very good for removing duplicated, correlated, redundant features but these methods do not remove multicollinearity.\n"
   ]
  },
  {
   "cell_type": "code",
   "execution_count": 7,
   "id": "6b190e33-8f7f-42ef-8ea2-2fb86aec5698",
   "metadata": {},
   "outputs": [],
   "source": [
    "# Ans 7\n",
    "\n",
    "# To use the Embedded method to select the most relevant features for the model, you would train the model and use Lasso regression, Ridge regression, or \n",
    "# Elastic Net to evaluate the importance of each feature. The Embedded method combines feature selection with the model training process."
   ]
  },
  {
   "cell_type": "code",
   "execution_count": null,
   "id": "1b94895b-fa98-4c9b-ac1d-5fe18bd6421e",
   "metadata": {},
   "outputs": [],
   "source": [
    "# Ans 8\n",
    "\n",
    "# To use the Wrapper method to select the best set of features for the predictor, you would evaluate subsets of features based on their ability to improve model performance. \n",
    "# The Wrapper method is computationally expensive and can be prone to overfitting, but it considers the interactions between features."
   ]
  }
 ],
 "metadata": {
  "kernelspec": {
   "display_name": "Python 3 (ipykernel)",
   "language": "python",
   "name": "python3"
  },
  "language_info": {
   "codemirror_mode": {
    "name": "ipython",
    "version": 3
   },
   "file_extension": ".py",
   "mimetype": "text/x-python",
   "name": "python",
   "nbconvert_exporter": "python",
   "pygments_lexer": "ipython3",
   "version": "3.10.8"
  }
 },
 "nbformat": 4,
 "nbformat_minor": 5
}
