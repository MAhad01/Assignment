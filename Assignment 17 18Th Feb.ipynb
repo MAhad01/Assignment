{
 "cells": [
  {
   "cell_type": "code",
   "execution_count": 1,
   "id": "326deedc-bc97-4230-b49f-fd73310f3d09",
   "metadata": {},
   "outputs": [],
   "source": [
    "# Ans 1\n",
    "# An API stands for Application Programming Interface. \n",
    "# It is a collection of communication protocols and subroutines used by various programs to communicate between them.\n",
    "\n",
    "# example of an API is Google Maps API. It allows developers to integrate Google Maps into their applications and websites."
   ]
  },
  {
   "cell_type": "code",
   "execution_count": 3,
   "id": "da975ac2-2753-47da-9f7b-1e85e63530ed",
   "metadata": {},
   "outputs": [],
   "source": [
    "# Ans 2\n",
    "\n",
    "# Advantages:\n",
    "# Increased Interoperability: API solutions enable different software systems to communicate with each other, \n",
    "# regardless of their programming language or platform. \n",
    "\n",
    "# Improved Efficiency: APIs can help automate repetitive tasks and reduce manual intervention, thereby improving efficiency.\n",
    "\n",
    "# Faster Time-to-Market: APIs can help developers build applications faster by providing pre-built functionalities that can be integrated into their applications.\n",
    "\n",
    "# Better User Experience: APIs can help improve the user experience by providing seamless integration with other applications and services.\n",
    "\n",
    "\n",
    "# Disadvantages:\n",
    "# Security Risks: As a single point of entry, an API is a gateway and can become a hacker’s primary target.\n",
    "\n",
    "# Dependency on Third-Party Providers: APIs rely on third-party providers for their functionality. \n",
    "# If the provider goes out of business or changes its API, it can affect the functionality of the dependent applications.\n",
    "\n",
    "# Lack of Control: When using third-party APIs, developers have limited control over the functionality and performance of the API."
   ]
  },
  {
   "cell_type": "code",
   "execution_count": 4,
   "id": "35a71758-1760-49d9-9fb4-a2a800d40aee",
   "metadata": {},
   "outputs": [],
   "source": [
    "# Ans 3\n",
    "\n",
    "# A Web API is a type of API that uses web protocols and formats such as HTTP and JSON to communicate over a network. \n",
    "# Web APIs are used to provide access to web services and are usually used on a distributed system to provide services on different devices such as smartphones and laptops.\n",
    "\n",
    "# The main difference between an API and a Web API is that the latter uses web protocols and formats to communicate over a network. \n",
    "# In other words, all Web APIs are APIs, but not all APIs are Web APIs "
   ]
  },
  {
   "cell_type": "code",
   "execution_count": null,
   "id": "dfddaa8e-682f-4270-b415-1ae4511a81fc",
   "metadata": {},
   "outputs": [],
   "source": [
    "# Ans 4\n",
    "\n",
    "# REST stands for Representational State Transfer. It is an architectural style that defines a set of constraints to be used when creating web services.\n",
    "# RESTful web services are stateless and can be cached."
   ]
  }
 ],
 "metadata": {
  "kernelspec": {
   "display_name": "Python 3 (ipykernel)",
   "language": "python",
   "name": "python3"
  },
  "language_info": {
   "codemirror_mode": {
    "name": "ipython",
    "version": 3
   },
   "file_extension": ".py",
   "mimetype": "text/x-python",
   "name": "python",
   "nbconvert_exporter": "python",
   "pygments_lexer": "ipython3",
   "version": "3.10.8"
  }
 },
 "nbformat": 4,
 "nbformat_minor": 5
}
