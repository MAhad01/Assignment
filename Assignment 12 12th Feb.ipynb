{
 "cells": [
  {
   "cell_type": "code",
   "execution_count": 2,
   "id": "cfeb3002-1a16-478c-8bfa-b7d3d6b829e1",
   "metadata": {},
   "outputs": [],
   "source": [
    "#Ans 1\n",
    "# In Python, an exception is an error that occurs during the execution of a program. When an exception occurs, Python stops executing the program.\n",
    "# The syntax errors occur when the interpreter cannot parse the code because of incorrect syntax\n",
    "# Whereas, exceptions are raised when some internal events occur which changes the normal flow of the program."
   ]
  },
  {
   "cell_type": "code",
   "execution_count": 3,
   "id": "09e6ecce-9457-48be-aa7f-4580185915ff",
   "metadata": {},
   "outputs": [
    {
     "ename": "ZeroDivisionError",
     "evalue": "division by zero",
     "output_type": "error",
     "traceback": [
      "\u001b[0;31m---------------------------------------------------------------------------\u001b[0m",
      "\u001b[0;31mZeroDivisionError\u001b[0m                         Traceback (most recent call last)",
      "Cell \u001b[0;32mIn[3], line 6\u001b[0m\n\u001b[1;32m      3\u001b[0m \u001b[38;5;28;01mdef\u001b[39;00m \u001b[38;5;21mdivide\u001b[39m(x, y):\n\u001b[1;32m      4\u001b[0m     \u001b[38;5;28;01mreturn\u001b[39;00m x \u001b[38;5;241m/\u001b[39m y\n\u001b[0;32m----> 6\u001b[0m \u001b[38;5;28mprint\u001b[39m(\u001b[43mdivide\u001b[49m\u001b[43m(\u001b[49m\u001b[38;5;241;43m10\u001b[39;49m\u001b[43m,\u001b[49m\u001b[43m \u001b[49m\u001b[38;5;241;43m0\u001b[39;49m\u001b[43m)\u001b[49m)\n",
      "Cell \u001b[0;32mIn[3], line 4\u001b[0m, in \u001b[0;36mdivide\u001b[0;34m(x, y)\u001b[0m\n\u001b[1;32m      3\u001b[0m \u001b[38;5;28;01mdef\u001b[39;00m \u001b[38;5;21mdivide\u001b[39m(x, y):\n\u001b[0;32m----> 4\u001b[0m     \u001b[38;5;28;01mreturn\u001b[39;00m \u001b[43mx\u001b[49m\u001b[43m \u001b[49m\u001b[38;5;241;43m/\u001b[39;49m\u001b[43m \u001b[49m\u001b[43my\u001b[49m\n",
      "\u001b[0;31mZeroDivisionError\u001b[0m: division by zero"
     ]
    }
   ],
   "source": [
    "# Ans 2\n",
    "# In Python, when an exception is not handled, the program will terminate and the traceback along with the exception information will be printed.\n",
    "def divide(x, y):\n",
    "    return x / y\n",
    "\n",
    "print(divide(10, 0))"
   ]
  },
  {
   "cell_type": "code",
   "execution_count": 4,
   "id": "c687567a-6cc1-4fe7-b6dc-9118cd238c58",
   "metadata": {},
   "outputs": [
    {
     "name": "stdout",
     "output_type": "stream",
     "text": [
      "Cannot divide by zero\n"
     ]
    }
   ],
   "source": [
    "# Ans 3\n",
    "#  try-except statement is used to catch and handle exceptions. The try block contains the code that might raise an exception, and the except block contains the code that will be executed if an exception is raised.\n",
    "try:\n",
    "    # code that might raise an exception\n",
    "    x = 1 / 0\n",
    "except ZeroDivisionError:\n",
    "    # code that will be executed if ZeroDivisionError is raised\n",
    "    print(\"Cannot divide by zero\")"
   ]
  },
  {
   "cell_type": "code",
   "execution_count": 6,
   "id": "bef21d24-9df9-458c-bf71-f99e0fd83312",
   "metadata": {},
   "outputs": [
    {
     "name": "stdout",
     "output_type": "stream",
     "text": [
      "Division successful\n"
     ]
    }
   ],
   "source": [
    "# Ans 4 (a)\n",
    "try:\n",
    "    # code that might raise an exception\n",
    "    x = 10 / 2\n",
    "except ZeroDivisionError:\n",
    "    # code that will be executed if ZeroDivisionError is raised\n",
    "    print(\"Cannot divide by zero\")\n",
    "else:\n",
    "    # code that will be executed if no exception is raised\n",
    "    print(\"Division successful\")"
   ]
  },
  {
   "cell_type": "code",
   "execution_count": 7,
   "id": "553975f1-ef5a-440f-b67d-b773d1d7d0b5",
   "metadata": {},
   "outputs": [
    {
     "name": "stdout",
     "output_type": "stream",
     "text": [
      "Cannot divide by zero\n",
      "This code will always run\n"
     ]
    }
   ],
   "source": [
    "# Abs 4 (b)\n",
    "try:\n",
    "    # code that might raise an exception\n",
    "    x = 1 / 0\n",
    "except ZeroDivisionError:\n",
    "    # code that will be executed if ZeroDivisionError is raised\n",
    "    print(\"Cannot divide by zero\")\n",
    "else:\n",
    "    # code that will be executed if no exception is raised\n",
    "    print(\"Division successful\")\n",
    "finally:\n",
    "    # code that will always be executed\n",
    "    print(\"This code will always run\")"
   ]
  },
  {
   "cell_type": "code",
   "execution_count": 9,
   "id": "2fe4ab9e-f268-4711-8125-d4c61a4188a8",
   "metadata": {},
   "outputs": [
    {
     "ename": "MyCustomException",
     "evalue": "Number is too large",
     "output_type": "error",
     "traceback": [
      "\u001b[0;31m---------------------------------------------------------------------------\u001b[0m",
      "\u001b[0;31mMyCustomException\u001b[0m                         Traceback (most recent call last)",
      "Cell \u001b[0;32mIn[9], line 8\u001b[0m\n\u001b[1;32m      5\u001b[0m x \u001b[38;5;241m=\u001b[39m \u001b[38;5;241m10\u001b[39m\n\u001b[1;32m      7\u001b[0m \u001b[38;5;28;01mif\u001b[39;00m x \u001b[38;5;241m>\u001b[39m \u001b[38;5;241m5\u001b[39m:\n\u001b[0;32m----> 8\u001b[0m     \u001b[38;5;28;01mraise\u001b[39;00m MyCustomException(\u001b[38;5;124m\"\u001b[39m\u001b[38;5;124mNumber is too large\u001b[39m\u001b[38;5;124m\"\u001b[39m)\n",
      "\u001b[0;31mMyCustomException\u001b[0m: Number is too large"
     ]
    }
   ],
   "source": [
    "# Ans (c)\n",
    "class MyCustomException(Exception):\n",
    "    pass\n",
    "\n",
    "x = 10\n",
    "\n",
    "if x > 5:\n",
    "    raise MyCustomException(\"Number is too large\")"
   ]
  },
  {
   "cell_type": "code",
   "execution_count": 10,
   "id": "7f9063f8-6f0d-4631-95c3-d60f52495708",
   "metadata": {},
   "outputs": [],
   "source": [
    "# Ans 5\n",
    "# In Python, you can define your own custom exceptions by creating a new class that is derived from the built-in Exception class.\n",
    "class MyCustomException(Exception):\n",
    "    def __init__(self, message):\n",
    "        self.message = message\n",
    "\n",
    "    def __str__(self):\n",
    "        return f\"{self.message} is not a valid input\"\n",
    "    "
   ]
  },
  {
   "cell_type": "code",
   "execution_count": null,
   "id": "f52828b3-23fd-4e74-8649-953dec02ee84",
   "metadata": {},
   "outputs": [],
   "source": [
    "# Ans 6\n",
    "class validateAge(Exception):\n",
    "    def __init__(self, msg):\n",
    "        self.msg=msg\n",
    "\n",
    "def validateage(age):\n",
    "    if age<0:\n",
    "        raise validateAge(\"Entered age is -ve\")\n",
    "    elif age>200:\n",
    "        raise validateAge(\"Entered age is too large\")\n",
    "    else:\n",
    "        print(\"age is valid\")\n",
    "        \n",
    "try:\n",
    "    age=int(input(\"Enter age\"))\n",
    "    validateage(age)\n",
    "except validateAge as e:\n",
    "    print(e)"
   ]
  }
 ],
 "metadata": {
  "kernelspec": {
   "display_name": "Python 3 (ipykernel)",
   "language": "python",
   "name": "python3"
  },
  "language_info": {
   "codemirror_mode": {
    "name": "ipython",
    "version": 3
   },
   "file_extension": ".py",
   "mimetype": "text/x-python",
   "name": "python",
   "nbconvert_exporter": "python",
   "pygments_lexer": "ipython3",
   "version": "3.10.8"
  }
 },
 "nbformat": 4,
 "nbformat_minor": 5
}
