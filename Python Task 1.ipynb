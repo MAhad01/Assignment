{
 "cells": [
  {
   "cell_type": "code",
   "execution_count": 24,
   "id": "8f72f561-dbe8-47bb-be0f-e43ea8e71284",
   "metadata": {},
   "outputs": [
    {
     "name": "stdout",
     "output_type": "stream",
     "text": [
      "578815684656168960\n"
     ]
    }
   ],
   "source": [
    "# Ans 1\n",
    "list1 = [1,2,3,4, [44,55,66, True], False, (34,56,78,89,34), {1,2,3,3,2,1}, {1:34, \"key2\": [55, 67, 78, 89], 4: (45,\n",
    "22, 61, 34)}, [56, 'data science'], 'Machine Learning']\n",
    "\n",
    "def productList(list1):\n",
    "    flat_list=[]\n",
    "    for item in list1:\n",
    "        if type(item)==list:\n",
    "            flat_list.extend(item)\n",
    "        elif type(item)==set:\n",
    "            flat_list.extend(item)\n",
    "        elif type(item)==tuple:\n",
    "            flat_list.extend(item)\n",
    "        else:\n",
    "            flat_list.append(item)\n",
    "    product =1\n",
    "    for i in flat_list:\n",
    "        if type(i)==int or type(i)==float:\n",
    "            product=product*i\n",
    "    return product\n",
    "    \n",
    "print(productList(list1))"
   ]
  },
  {
   "cell_type": "code",
   "execution_count": 46,
   "id": "d91c1b44-cb82-47a7-8f03-bc3be28c3f2d",
   "metadata": {},
   "outputs": [
    {
     "name": "stdout",
     "output_type": "stream",
     "text": [
      "I$wznt$to$yexome$z$Dztz$Sxientist.\n"
     ]
    }
   ],
   "source": [
    "#Ans 2\n",
    "Input_Str=\"I want to become a Data Scientist.\"\n",
    "def encripted_msg(msg):\n",
    "    encMsg=\"\"\n",
    "    for char in msg:\n",
    "        if char==\"a\":\n",
    "            encMsg+=\"z\"\n",
    "        elif char==\"b\":\n",
    "            encMsg+=\"y\"\n",
    "        elif char==\"c\":\n",
    "            encMsg+=\"x\"\n",
    "        elif char == \" \":\n",
    "            encMsg += \"$\"\n",
    "        else:\n",
    "            encMsg += char\n",
    "    return encMsg\n",
    "\n",
    "print(encripted_msg(Input_Str))"
   ]
  },
  {
   "cell_type": "code",
   "execution_count": null,
   "id": "a75bc2c5-d90f-49df-816e-dd0bc8f1b9d1",
   "metadata": {},
   "outputs": [],
   "source": []
  }
 ],
 "metadata": {
  "kernelspec": {
   "display_name": "Python 3 (ipykernel)",
   "language": "python",
   "name": "python3"
  },
  "language_info": {
   "codemirror_mode": {
    "name": "ipython",
    "version": 3
   },
   "file_extension": ".py",
   "mimetype": "text/x-python",
   "name": "python",
   "nbconvert_exporter": "python",
   "pygments_lexer": "ipython3",
   "version": "3.10.8"
  }
 },
 "nbformat": 4,
 "nbformat_minor": 5
}
