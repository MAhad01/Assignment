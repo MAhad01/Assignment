{
 "cells": [
  {
   "cell_type": "code",
   "execution_count": 5,
   "id": "49b06ddb-b957-4d31-acbd-bb05d3298d7b",
   "metadata": {},
   "outputs": [],
   "source": [
    "#Ans 1\n",
    "# Abstraction is the process of hiding the implementation details and showing only the necessary information to the user. \n",
    "# Abstraction provides a structure/blue print/outline to the code\n",
    "# to make a class abstract we use 'abc' inbuilt class of python\n",
    "import abc\n",
    "class pwskill:\n",
    "    @abc.abstractmethod\n",
    "    def stdDetails(self):\n",
    "        pass\n",
    "    @abc.abstractmethod\n",
    "    def stdAssignment(self):\n",
    "        pass\n",
    "    @abc.abstractmethod\n",
    "    def stdMarks(self):\n",
    "        pass"
   ]
  },
  {
   "cell_type": "code",
   "execution_count": 6,
   "id": "7cbc5b58-d670-4753-8261-ed3b0a5da149",
   "metadata": {},
   "outputs": [],
   "source": [
    "class normalClass(pwskill):\n",
    "    def stdAssignment(self):\n",
    "        return \"Normal assignment\""
   ]
  },
  {
   "cell_type": "code",
   "execution_count": 7,
   "id": "ca10c437-2082-4c60-8efc-ad44267129d1",
   "metadata": {},
   "outputs": [],
   "source": [
    "class AI(pwskill):\n",
    "    def stdMarks(self):\n",
    "        return \"Marks AI\"\n",
    "    def stdDetails(self):\n",
    "        return \"Student Details\""
   ]
  },
  {
   "cell_type": "code",
   "execution_count": 8,
   "id": "1d3506ae-c39a-4910-8b63-ba45fa4df193",
   "metadata": {},
   "outputs": [
    {
     "data": {
      "text/plain": [
       "'Marks AI'"
      ]
     },
     "execution_count": 8,
     "metadata": {},
     "output_type": "execute_result"
    }
   ],
   "source": [
    "dsm=AI()\n",
    "dsm.stdMarks()"
   ]
  },
  {
   "cell_type": "code",
   "execution_count": 9,
   "id": "fc10a0fc-0f8c-4190-8562-b6e46785d40d",
   "metadata": {},
   "outputs": [],
   "source": [
    "#Ans 2\n",
    "# Difference between Abstraction and Encapsulation is that \n",
    "# Abstraction hides the code complexity while Encapsulation hides the internal working from the outside world.\n",
    "\n",
    "#For example, consider a car. A car has an engine, wheels, doors, etc. The user only needs to know how to drive the car and not how it works internally. This is an example of Abstraction. \n",
    "#Encapsulation is like a capsule or container that wraps code and data together into a single unit. "
   ]
  },
  {
   "cell_type": "code",
   "execution_count": 10,
   "id": "f69ec403-4602-4009-8dd0-5e4552f9e95c",
   "metadata": {},
   "outputs": [],
   "source": [
    "# Ans 3\n",
    "# The abc module in Python stands for Abstract Base Class. \n",
    "# It is used to provide the infrastructure for defining abstract base classes (ABCs) in Python."
   ]
  },
  {
   "cell_type": "code",
   "execution_count": 11,
   "id": "43584e4a-3aa3-44e8-805b-70527143d819",
   "metadata": {},
   "outputs": [],
   "source": [
    "# Ans 4\n",
    "# Data Abstraction in Python can be achieved through creating abstract classes and inheriting them later. \n"
   ]
  },
  {
   "cell_type": "code",
   "execution_count": null,
   "id": "2d43d65a-7357-4991-8d3f-14fe9521b17f",
   "metadata": {},
   "outputs": [],
   "source": [
    "# Ans 5\n",
    "# "
   ]
  }
 ],
 "metadata": {
  "kernelspec": {
   "display_name": "Python 3 (ipykernel)",
   "language": "python",
   "name": "python3"
  },
  "language_info": {
   "codemirror_mode": {
    "name": "ipython",
    "version": 3
   },
   "file_extension": ".py",
   "mimetype": "text/x-python",
   "name": "python",
   "nbconvert_exporter": "python",
   "pygments_lexer": "ipython3",
   "version": "3.10.8"
  }
 },
 "nbformat": 4,
 "nbformat_minor": 5
}
