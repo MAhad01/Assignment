{
 "cells": [
  {
   "cell_type": "code",
   "execution_count": 1,
   "id": "5cc81449-f53f-4cb0-8f08-d8136302bbd7",
   "metadata": {},
   "outputs": [],
   "source": [
    "# Ans 1\n",
    "# A database is an organized collection of data that can be accessed, managed, and updated easily. \n",
    "# It is used to store and manage data that can be used by different application\n",
    "\n",
    "# SQL databases are table-based databases that store data in a structured format. They use tables with rows and columns to store data\n",
    "#  NoSQL databases are non-relational databases that store data in a manner other than the tabular relations."
   ]
  },
  {
   "cell_type": "code",
   "execution_count": null,
   "id": "0d73be8c-7cf1-4d91-97f6-b74181986b4a",
   "metadata": {},
   "outputs": [],
   "source": [
    "# Ans 2\n",
    "# Data Definition Language (DDL) is a subset of SQL and a part of DBMS (Database Management System).\n",
    "# DDL consists of commands like CREATE, ALTER, TRUNCATE and DROP.\n",
    "\n",
    "# CREATE: This command is used to create a new table in the database. \n",
    "# For example, the following SQL statement creates a new table named “employees” with three columns: “id”, “name”, and “age”.\n",
    "CREATE TABLE employees (\n",
    "    id INT PRIMARY KEY,\n",
    "    name VARCHAR(50),\n",
    "    age INT\n",
    ");\n",
    "\n",
    "#DROP: This command is used to delete an existing table from the database. For example, the following SQL statement deletes the “employees” table:\n",
    "DROP TABLE employees;\n",
    "\n",
    "#ALTER: This command is used to modify an existing table in the database. For example, the following SQL statement adds a new column named “salary” to the “employees” table:\n",
    "ALTER TABLE employees ADD COLUMN salary INT;\n",
    "\n",
    "#TRUNCATE: This command is used to delete all data from an existing table without deleting the table itself. For example, the following SQL statement deletes all data from the “employees” table:\n",
    "TRUNCATE TABLE employees;"
   ]
  },
  {
   "cell_type": "code",
   "execution_count": 2,
   "id": "4d3bb295-a4b4-444b-bcf5-d571fed768de",
   "metadata": {},
   "outputs": [],
   "source": [
    "# Ans 3\n",
    "# Data Manipulation Language (DML) is a computer programming language that is used to manage data in a database. \n",
    "\n",
    "# INSERT: It is used to insert data into a table. \n",
    "# For example, if you want to add a new employee record to an employee table, you can use the INSERT statement to add the record.\n",
    "\n",
    "#UPDATE: It is used to update existing data within a table. \n",
    "#For example, if you want to update an employee’s salary in an employee table, you can use the UPDATE statement\n",
    "\n",
    "# DELETE: It is used to delete records from a database table. \n",
    "# For example, if you want to delete an employee record from an employee table"
   ]
  },
  {
   "cell_type": "code",
   "execution_count": null,
   "id": "a974dcb5-f05d-4e28-991e-f1324ff2a385",
   "metadata": {},
   "outputs": [],
   "source": [
    "# ANs 4\n",
    "# Data Query Language (DQL) is a component of SQL statement that allows getting data from the database and imposing order upon it.\n",
    "\n",
    "# example of a DQL statement using the SELECT command:\n",
    "SELECT FirstName FROM Student WHERE RollNo > 15;\n"
   ]
  },
  {
   "cell_type": "code",
   "execution_count": 5,
   "id": "efe63a52-9671-4987-bd93-eb6d99536c04",
   "metadata": {},
   "outputs": [],
   "source": [
    "# Ans 5\n",
    "\n",
    "# A Primary Key is a column or a set of columns that uniquely identifies each row in a table. \n",
    "# It is used to enforce data integrity by ensuring that each record in the table is unique and can be identified by a unique value.\n",
    "\n",
    "# A Foreign Key is a column or a set of columns that refers to the Primary Key of another table. \n",
    "# It is used to establish a relationship between two tables and enforce referential integrity."
   ]
  },
  {
   "cell_type": "code",
   "execution_count": null,
   "id": "abe7ba17-c389-417c-8e76-2cc5ae5eab8a",
   "metadata": {},
   "outputs": [],
   "source": [
    "# Ans 6\n",
    "import mysql.connector\n",
    "mydb = mysql.connector.connect(\n",
    "  host=\"localhost\",\n",
    "  user=\"abc\",\n",
    "  password=\"password\"\n",
    ")\n",
    "mycursor = mydb.cursor()\n",
    "mycursor.execute()\n",
    "mydb.close()\n",
    "\n",
    "# cursor() method is used to create a cursor object that allows you to execute SQL statements.\n",
    "# The cursor object is created by calling the cursor() method on a connection object.\n",
    "\n",
    "# The execute() method is used to execute an SQL query. It helps us to execute the query and return records according to the query."
   ]
  },
  {
   "cell_type": "code",
   "execution_count": null,
   "id": "7a919da2-509f-4e45-bbe9-3848ab8c092a",
   "metadata": {},
   "outputs": [],
   "source": [
    "# Ans 7\n",
    "\n",
    "The order of execution of SQL clauses in an SQL query is as follows 1:\n",
    "\n",
    "FROM clause\n",
    "ON clause\n",
    "OUTER clause\n",
    "WHERE clause\n",
    "GROUP BY clause\n",
    "HAVING clause\n",
    "SELECT clause\n",
    "DISTINCT clause\n",
    "ORDER BY clause\n",
    "TOP clause"
   ]
  }
 ],
 "metadata": {
  "kernelspec": {
   "display_name": "Python 3 (ipykernel)",
   "language": "python",
   "name": "python3"
  },
  "language_info": {
   "codemirror_mode": {
    "name": "ipython",
    "version": 3
   },
   "file_extension": ".py",
   "mimetype": "text/x-python",
   "name": "python",
   "nbconvert_exporter": "python",
   "pygments_lexer": "ipython3",
   "version": "3.10.8"
  }
 },
 "nbformat": 4,
 "nbformat_minor": 5
}
